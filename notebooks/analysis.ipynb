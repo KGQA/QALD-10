{
 "cells": [
  {
   "cell_type": "code",
   "execution_count": 1,
   "metadata": {
    "collapsed": false
   },
   "outputs": [],
   "source": [
    "from SPARQLWrapper import SPARQLWrapper, JSON\n",
    "import numpy as np\n",
    "import re\n",
    "import json"
   ]
  },
  {
   "cell_type": "code",
   "execution_count": 2,
   "metadata": {
    "collapsed": false
   },
   "outputs": [],
   "source": [
    "endpoint = \"https://skynet.coypu.org/qald-x-analysis/\""
   ]
  },
  {
   "cell_type": "code",
   "execution_count": 3,
   "metadata": {
    "collapsed": false
   },
   "outputs": [],
   "source": [
    "def KB_query(query, kb_endpoint):\n",
    "    sparql = SPARQLWrapper(kb_endpoint)\n",
    "    sparql.setQuery(query)\n",
    "    sparql.setReturnFormat(JSON)\n",
    "    response = sparql.query().convert()\n",
    "    results = parse_query_results(response)\n",
    "    return results"
   ]
  },
  {
   "cell_type": "code",
   "execution_count": 4,
   "metadata": {
    "collapsed": false
   },
   "outputs": [],
   "source": [
    "def parse_query_results(response):\n",
    "    if \"boolean\" in response: # ASK\n",
    "        results = [response[\"boolean\"]]\n",
    "    else:\n",
    "        if len(response[\"results\"][\"bindings\"]) > 0 and \"callret-0\" in response[\"results\"][\"bindings\"][0]: # COUNT\n",
    "            results = [response[\"results\"][\"bindings\"][0][\"callret-0\"][\"value\"]]\n",
    "        else:\n",
    "            results = []\n",
    "            for res in response[\"results\"][\"bindings\"]:\n",
    "                res = {k: v[\"value\"] for k, v in res.items()}\n",
    "                results.append(res)\n",
    "    return results"
   ]
  },
  {
   "cell_type": "code",
   "execution_count": 5,
   "metadata": {
    "collapsed": false
   },
   "outputs": [],
   "source": [
    "def reconstruct_query(named_graph_uri, query):\n",
    "    where_start_idx = query.find(\"WHERE\")\n",
    "    if where_start_idx < 0:\n",
    "        print(\"The keyword WHERE can not be found in query: \", query)\n",
    "    new_query = query[:where_start_idx] + \"FROM \" + named_graph_uri + \" \" + query[where_start_idx:]\n",
    "    return new_query"
   ]
  },
  {
   "cell_type": "code",
   "execution_count": 6,
   "metadata": {},
   "outputs": [],
   "source": [
    "# get the distribution of the number of triple patterns\n",
    "\n",
    "def get_dist_triple_patterns(named_graph_uri):\n",
    "    orig_query = \"SELECT ?tp WHERE { ?s <http://lsq.aksw.org/vocab#text> ?text . ?s <http://lsq.aksw.org/vocab#hasStructuralFeatures> ?sf . ?sf <http://lsq.aksw.org/vocab#tpCount> ?tp. }\"\n",
    "    TP_query = reconstruct_query(named_graph_uri, orig_query)\n",
    "    TP = KB_query(TP_query, endpoint)\n",
    "    TP = [float(a[\"tp\"]) for a in TP]\n",
    "    return TP\n",
    "\n",
    "def get_dist_joins(named_graph_uri):\n",
    "    orig_query = \"SELECT ?jv WHERE { ?s <http://lsq.aksw.org/vocab#text> ?text . ?s <http://lsq.aksw.org/vocab#hasStructuralFeatures> ?sf . ?sf <http://lsq.aksw.org/vocab#joinVertexCount> ?jv. }\"\n",
    "    Joins_query = reconstruct_query(named_graph_uri, orig_query)\n",
    "    Joins = KB_query(Joins_query, endpoint)\n",
    "    Joins = [float(a[\"jv\"]) for a in Joins]\n",
    "    return Joins\n",
    "\n",
    "def get_dist_funcs(named_graph_uri):\n",
    "    orig_query = \"SELECT (count(DISTINCT ?text) as ?totalFunc) WHERE { ?s <http://lsq.aksw.org/vocab#text> ?text . ?s <http://lsq.aksw.org/vocab#hasStructuralFeatures> ?sf . ?sf <http://lsq.aksw.org/vocab#usesFeature>  <http://lsq.aksw.org/vocab#Functions> }\"\n",
    "    Funcs_query = reconstruct_query(named_graph_uri, orig_query)\n",
    "    Funcs = KB_query(Funcs_query, endpoint)\n",
    "    totalFunc = int(Funcs[0][\"totalFunc\"])\n",
    "    return totalFunc\n",
    "\n",
    "def get_dist_jvd(named_graph_uri):\n",
    "    orig_query = \"SELECT ?jvd WHERE { ?s <http://lsq.aksw.org/vocab#text> ?text . ?s <http://lsq.aksw.org/vocab#hasStructuralFeatures> ?sf . ?sf <http://lsq.aksw.org/vocab#joinVertexDegreeMean> ?jvd. }\"\n",
    "    JVD_query = reconstruct_query(named_graph_uri, orig_query)\n",
    "    JVD = KB_query(JVD_query, endpoint)\n",
    "    JVD = [float(a[\"jvd\"]) for a in JVD]\n",
    "    return JVD\n",
    "\n",
    "def get_solution_modifiers(named_graph_uri):\n",
    "    orig_query = \"SELECT (count(DISTINCT ?text) as ?totalMod) WHERE { ?s <http://lsq.aksw.org/vocab#text> ?text . ?s <http://lsq.aksw.org/vocab#hasStructuralFeatures> ?sf . ?sf <http://lsq.aksw.org/vocab#usesFeature> ?uf . FILTER(?uf = <http://lsq.aksw.org/vocab#OrderBy> || ?uf = <http://lsq.aksw.org/vocab#Offset> || ?uf = <http://lsq.aksw.org/vocab#Limit>) }\"\n",
    "    totalMod_query = reconstruct_query(named_graph_uri, orig_query)\n",
    "    totalMod = KB_query(totalMod_query, endpoint)\n",
    "\n",
    "def get_ask_frequency(named_graph_uri):\n",
    "    orig_query = \"SELECT (count(DISTINCT ?text) as ?Ask) WHERE { ?s <http://lsq.aksw.org/vocab#text> ?text . ?s <http://lsq.aksw.org/vocab#hasSpin> ?spin . ?spin a <http://spinrdf.org/sp#Ask> . }\"\n",
    "    Ask_query = reconstruct_query(named_graph_uri, orig_query)\n",
    "    Ask_freq = KB_query(Ask_query, endpoint)\n",
    "    Ask_freq = int(Ask_freq[0][\"Ask\"])\n",
    "    return Ask_freq\n",
    "\n",
    "def get_limit_frequency(named_graph_uri):\n",
    "    orig_query = \"SELECT (count(DISTINCT ?text) as ?totalLimit) WHERE { ?s <http://lsq.aksw.org/vocab#text> ?text . ?s <http://lsq.aksw.org/vocab#hasStructuralFeatures> ?sf . ?sf <http://lsq.aksw.org/vocab#usesFeature> <http://lsq.aksw.org/vocab#Limit> . }\"\n",
    "    Limit_query = reconstruct_query(named_graph_uri, orig_query)\n",
    "    Limit_freq = KB_query(Limit_query, endpoint)\n",
    "    Limit_freq = int(Limit_freq[0][\"totalLimit\"])\n",
    "    return Limit_freq\n",
    "\n",
    "def get_orderby_frequency(named_graph_uri):\n",
    "    orig_query = \"SELECT (count(DISTINCT ?text) as ?totalOrderBy) WHERE { ?s <http://lsq.aksw.org/vocab#text> ?text . ?s <http://lsq.aksw.org/vocab#hasStructuralFeatures> ?sf . ?sf <http://lsq.aksw.org/vocab#usesFeature> <http://lsq.aksw.org/vocab#OrderBy> . }\"\n",
    "    Orderby_query = reconstruct_query(named_graph_uri, orig_query)\n",
    "    Orderby_freq = KB_query(Orderby_query, endpoint)\n",
    "    Orderby_freq = int(Orderby_freq[0][\"totalOrderBy\"])\n",
    "    return Orderby_freq\n",
    "\n",
    "def get_filter_frequency(named_graph_uri):\n",
    "    orig_query = \"SELECT (count(DISTINCT ?text) as ?totalFilter) WHERE { ?s <http://lsq.aksw.org/vocab#text> ?text . ?s <http://lsq.aksw.org/vocab#hasStructuralFeatures> ?sf . ?sf <http://lsq.aksw.org/vocab#usesFeature> <http://lsq.aksw.org/vocab#Filter> . }\"\n",
    "    Filter_query = reconstruct_query(named_graph_uri, orig_query)\n",
    "    Filter_freq = KB_query(Filter_query, endpoint)\n",
    "    Filter_freq = int(Filter_freq[0][\"totalFilter\"])\n",
    "    return Filter_freq\n",
    "\n",
    "\n",
    "def get_union_frequency(named_graph_uri):\n",
    "    orig_query = \"SELECT (count(DISTINCT ?text) as ?totalUnion) WHERE { ?s <http://lsq.aksw.org/vocab#text> ?text . ?s <http://lsq.aksw.org/vocab#hasStructuralFeatures> ?sf . ?sf <http://lsq.aksw.org/vocab#usesFeature> <http://lsq.aksw.org/vocab#Union> . }\"\n",
    "    Union_query = reconstruct_query(named_graph_uri, orig_query)\n",
    "    Union_freq = KB_query(Union_query, endpoint)\n",
    "    Union_freq = int(Union_freq[0][\"totalUnion\"])\n",
    "    return Union_freq\n",
    "\n",
    "\n",
    "def get_offset_frequency(named_graph_uri):\n",
    "    orig_query = \"SELECT (count(DISTINCT ?text) as ?totalOffset) WHERE { ?s <http://lsq.aksw.org/vocab#text> ?text . ?s <http://lsq.aksw.org/vocab#hasStructuralFeatures> ?sf . ?sf <http://lsq.aksw.org/vocab#usesFeature> <http://lsq.aksw.org/vocab#Offset> . }\"\n",
    "    Offset_query = reconstruct_query(named_graph_uri, orig_query)\n",
    "    Offset_freq = KB_query(Offset_query, endpoint)\n",
    "    Offset_freq = int(Offset_freq[0][\"totalOffset\"])\n",
    "    return Offset_freq\n",
    "\n",
    "def get_groupby_frequency(named_graph_uri):\n",
    "    orig_query = \"SELECT (count(DISTINCT ?text) as ?totalGroupBy) WHERE { ?s <http://lsq.aksw.org/vocab#text> ?text . ?s <http://lsq.aksw.org/vocab#hasStructuralFeatures> ?sf . ?sf <http://lsq.aksw.org/vocab#usesFeature> <http://lsq.aksw.org/vocab#GroupBy> .}\"\n",
    "    Groupby_query = reconstruct_query(named_graph_uri, orig_query)\n",
    "    Groupby_freq = KB_query(Groupby_query, endpoint)\n",
    "    Groupby_freq = int(Groupby_freq[0][\"totalGroupBy\"])\n",
    "    return Groupby_freq\n",
    "\n",
    "\n",
    "def calculate_variance(dist):\n",
    "    mean = np.mean(np.array(dist))\n",
    "    std = np.std(np.array(dist))\n",
    "    variance = np.var(np.array(dist))\n",
    "    return mean, std, variance"
   ]
  },
  {
   "cell_type": "code",
   "execution_count": 7,
   "outputs": [],
   "source": [
    "def calculate_diversity_score(tp_mean_sd, joins_mean_sd, jvd_mean_sd):\n",
    "    diversity = 1 / 3 * (tp_mean_sd[1]/tp_mean_sd[0] + joins_mean_sd[1]/joins_mean_sd[0] + jvd_mean_sd[1]/jvd_mean_sd[0])\n",
    "    return diversity"
   ],
   "metadata": {
    "collapsed": false
   }
  },
  {
   "cell_type": "code",
   "execution_count": 8,
   "outputs": [],
   "source": [
    "# get frequencies of each modifier obtained from the sparql queries\n",
    "count_pattern = re.compile('count|COUNT')\n",
    "having_pattern = re.compile('having|HAVING')\n",
    "year_pattern = re.compile('year|YEAR')\n",
    "now_pattern = re.compile('now|NOW')\n",
    "\n",
    "def get_frequencies_modifiers(data, named_graph_uri):\n",
    "    counts, limits, order_by, filters, asks, unions, offsets, group_by, havings, years, nows = 0,0,0,0,0,0,0,0,0,0,0\n",
    "    for datum in data:\n",
    "        counts += len(re.findall(count_pattern, datum))\n",
    "        havings += len(re.findall(having_pattern, datum))\n",
    "        years += len(re.findall(year_pattern, datum))\n",
    "        nows += len(re.findall(now_pattern, datum))\n",
    "\n",
    "    limits = get_limit_frequency(named_graph_uri)\n",
    "    order_by = get_orderby_frequency(named_graph_uri)\n",
    "    filters = get_filter_frequency(named_graph_uri)\n",
    "    asks = get_ask_frequency(named_graph_uri)\n",
    "    unions = get_union_frequency(named_graph_uri)\n",
    "    offsets = get_offset_frequency(named_graph_uri)\n",
    "    group_by = get_groupby_frequency(named_graph_uri)\n",
    "\n",
    "    return counts, limits, order_by, filters, asks, unions, offsets, group_by, havings, years, nows\n"
   ],
   "metadata": {
    "collapsed": false
   }
  },
  {
   "cell_type": "markdown",
   "metadata": {
    "collapsed": false
   },
   "source": [
    "# QALD-10-Wikidata-Test"
   ]
  },
  {
   "cell_type": "code",
   "execution_count": 9,
   "metadata": {},
   "outputs": [
    {
     "name": "stdout",
     "output_type": "stream",
     "text": [
      "[1.0, 1.0, 2.0, 1.0, 1.0, 1.0, 1.0, 0.0, 2.0, 2.0, 0.0, 1.0, 6.0, 1.0, 1.0, 3.0, 3.0, 2.0, 0.0, 1.0, 1.0, 0.0, 0.0, 1.0, 3.0, 1.0, 1.0, 1.0, 4.0, 3.0, 1.0, 2.0, 2.0, 2.0, 2.0, 3.0, 1.0, 2.0, 2.0, 1.0, 1.0, 1.0, 0.0, 1.0, 3.0, 1.0, 1.0, 1.0, 0.0, 3.0, 1.0, 0.0, 4.0, 1.0, 1.0, 1.0, 1.0, 1.0, 1.0, 0.0, 1.0, 4.0, 4.0, 0.0, 2.0, 2.0, 2.0, 1.0, 1.0, 1.0, 1.0, 5.0, 1.0, 1.0, 2.0, 2.0, 0.0, 1.0, 3.0, 0.0, 4.0, 1.0, 3.0, 2.0, 2.0, 2.0, 1.0, 0.0, 1.0, 2.0, 5.0, 2.0, 0.0, 1.0, 1.0, 1.0, 1.0, 1.0, 1.0, 2.0, 2.0, 2.0, 2.0, 2.0, 2.0, 1.0, 0.0, 1.0, 2.0, 1.0, 2.0, 2.0, 1.0, 1.0, 1.0, 3.0, 2.0, 1.0, 2.0, 3.0, 2.0, 3.0, 4.0, 2.0, 2.0, 1.0, 0.0, 1.0, 1.0, 1.0, 0.0, 0.0, 1.0, 0.0, 2.0, 1.0, 2.0, 1.0, 1.0, 0.0, 2.0, 2.0, 1.0, 2.0, 1.0, 2.0, 1.0, 2.0, 2.0, 2.0, 2.0, 3.0, 3.0, 2.0, 3.0, 1.0, 2.0, 1.0, 1.0, 1.0, 1.0, 2.0, 1.0, 1.0, 2.0, 1.0, 3.0, 2.0, 2.0, 2.0, 1.0, 1.0, 0.0, 1.0, 1.0, 1.0, 1.0, 1.0, 1.0, 1.0, 2.0, 1.0, 1.0, 2.0, 0.0, 6.0, 2.0, 1.0, 2.0, 1.0, 3.0, 0.0, 0.0, 6.0, 1.0, 1.0, 1.0, 1.0, 2.0, 1.0, 1.0, 1.0, 1.0, 1.0, 2.0, 3.0, 4.0, 6.0, 2.0, 5.0, 2.0, 3.0, 2.0, 0.0, 1.0, 1.0, 2.0, 2.0, 2.0, 1.0, 1.0, 1.0, 6.0, 3.0, 2.0, 1.0, 2.0, 2.0, 6.0, 0.0, 1.0, 2.0, 2.0, 1.0, 3.0, 1.0, 2.0, 1.0, 4.0, 5.0, 1.0, 2.0, 1.0, 1.0, 0.0, 1.0, 2.0, 2.0, 2.0, 2.0, 1.0, 3.0, 1.0, 1.0, 1.0, 2.0, 3.0, 1.0, 1.0, 2.0, 0.0, 2.0, 1.0, 2.0, 2.0, 2.0, 1.0, 1.0, 0.0, 1.0, 1.0, 1.0, 1.0, 1.0, 2.0, 0.0, 2.0, 4.0, 1.0, 1.0, 1.0, 5.0, 2.0, 2.0, 1.0, 1.0, 1.0, 1.0, 2.0, 2.0, 1.0, 2.0, 0.0, 2.0, 1.0, 1.0, 4.0, 3.0, 0.0, 1.0, 1.0, 2.0, 1.0, 1.0, 1.0, 4.0, 3.0, 2.0, 2.0, 3.0, 1.0, 1.0, 4.0, 1.0, 2.0, 2.0, 8.0, 2.0, 1.0, 1.0, 4.0, 1.0, 6.0, 1.0, 3.0, 0.0, 1.0, 2.0, 1.0, 1.0, 3.0, 2.0, 1.0, 1.0, 0.0, 3.0, 1.0, 1.0, 2.0, 1.0, 1.0, 0.0, 3.0, 1.0, 2.0, 1.0, 1.0, 0.0, 1.0, 0.0, 2.0, 2.0, 2.0, 1.0, 1.0, 0.0, 2.0, 1.0, 3.0, 1.0, 1.0, 2.0, 1.0, 1.0, 1.0, 2.0, 1.0, 1.0, 2.0, 1.0, 2.0, 1.0, 1.0, 1.0, 1.0, 1.0, 1.0, 0.0, 2.0, 1.0, 1.0, 2.0, 1.0, 1.0, 3.0, 2.0, 1.0, 4.0, 1.0, 1.0, 0.0, 1.0]\n"
     ]
    }
   ],
   "source": [
    "dist_triple_patterns_qald10_wikidata_test=get_dist_triple_patterns(\"<http://lsq.aksw.org/graph#qald10-wikidata-test>\")\n",
    "print(dist_triple_patterns_qald10_wikidata_test, sep=\"\\t\")"
   ]
  },
  {
   "cell_type": "code",
   "execution_count": 10,
   "outputs": [
    {
     "name": "stdout",
     "output_type": "stream",
     "text": [
      "Mean: 1.6045918367346939, Std: 1.1991831134256343, Variance: 1.4380401395251978\n"
     ]
    }
   ],
   "source": [
    "mean_tp_qald10_wd_test, std_tp_qald10_wd_test, var_tp_qald10_wd_test = calculate_variance(dist_triple_patterns_qald10_wikidata_test)\n",
    "print(\"Mean: {0}, Std: {1}, Variance: {2}\".format(mean_tp_qald10_wd_test, std_tp_qald10_wd_test, var_tp_qald10_wd_test))"
   ],
   "metadata": {
    "collapsed": false
   }
  },
  {
   "cell_type": "code",
   "execution_count": 11,
   "outputs": [
    {
     "name": "stdout",
     "output_type": "stream",
     "text": [
      "[0.0, 0.0, 1.0, 0.0, 0.0, 0.0, 0.0, 0.0, 1.0, 1.0, 0.0, 0.0, 6.0, 0.0, 0.0, 2.0, 2.0, 1.0, 0.0, 0.0, 0.0, 0.0, 0.0, 0.0, 1.0, 0.0, 0.0, 0.0, 1.0, 2.0, 0.0, 0.0, 1.0, 1.0, 1.0, 1.0, 0.0, 1.0, 1.0, 0.0, 0.0, 0.0, 0.0, 0.0, 1.0, 0.0, 0.0, 0.0, 0.0, 1.0, 0.0, 0.0, 1.0, 0.0, 0.0, 0.0, 0.0, 0.0, 0.0, 0.0, 0.0, 1.0, 6.0, 0.0, 1.0, 1.0, 1.0, 0.0, 0.0, 0.0, 0.0, 3.0, 0.0, 0.0, 0.0, 1.0, 0.0, 0.0, 1.0, 0.0, 2.0, 0.0, 1.0, 1.0, 1.0, 1.0, 0.0, 0.0, 0.0, 1.0, 4.0, 1.0, 0.0, 0.0, 0.0, 0.0, 0.0, 0.0, 0.0, 1.0, 1.0, 1.0, 1.0, 1.0, 1.0, 0.0, 0.0, 0.0, 0.0, 0.0, 1.0, 1.0, 0.0, 0.0, 0.0, 1.0, 1.0, 0.0, 0.0, 1.0, 1.0, 2.0, 4.0, 1.0, 1.0, 0.0, 0.0, 0.0, 0.0, 0.0, 0.0, 0.0, 0.0, 0.0, 1.0, 0.0, 1.0, 0.0, 0.0, 0.0, 0.0, 1.0, 0.0, 1.0, 0.0, 1.0, 0.0, 1.0, 1.0, 1.0, 1.0, 1.0, 2.0, 1.0, 1.0, 0.0, 1.0, 0.0, 0.0, 0.0, 0.0, 1.0, 0.0, 0.0, 1.0, 0.0, 1.0, 2.0, 1.0, 1.0, 0.0, 0.0, 0.0, 0.0, 0.0, 0.0, 0.0, 0.0, 0.0, 0.0, 1.0, 0.0, 0.0, 2.0, 0.0, 6.0, 1.0, 0.0, 1.0, 0.0, 1.0, 0.0, 0.0, 6.0, 0.0, 0.0, 0.0, 0.0, 1.0, 0.0, 0.0, 0.0, 0.0, 0.0, 1.0, 1.0, 1.0, 7.0, 1.0, 2.0, 0.0, 1.0, 1.0, 0.0, 0.0, 0.0, 1.0, 1.0, 1.0, 0.0, 0.0, 0.0, 5.0, 1.0, 0.0, 0.0, 1.0, 1.0, 2.0, 0.0, 0.0, 1.0, 2.0, 0.0, 2.0, 0.0, 1.0, 0.0, 3.0, 2.0, 0.0, 0.0, 0.0, 0.0, 0.0, 0.0, 2.0, 2.0, 1.0, 1.0, 0.0, 1.0, 0.0, 0.0, 0.0, 1.0, 1.0, 0.0, 0.0, 1.0, 0.0, 1.0, 0.0, 1.0, 2.0, 1.0, 0.0, 0.0, 0.0, 0.0, 0.0, 0.0, 0.0, 0.0, 1.0, 0.0, 1.0, 1.0, 0.0, 0.0, 0.0, 4.0, 0.0, 1.0, 0.0, 0.0, 0.0, 0.0, 1.0, 1.0, 0.0, 1.0, 0.0, 2.0, 0.0, 0.0, 6.0, 3.0, 0.0, 0.0, 0.0, 1.0, 0.0, 0.0, 0.0, 2.0, 2.0, 1.0, 1.0, 1.0, 0.0, 0.0, 3.0, 0.0, 1.0, 1.0, 7.0, 1.0, 0.0, 0.0, 1.0, 0.0, 6.0, 0.0, 2.0, 0.0, 0.0, 1.0, 0.0, 0.0, 3.0, 1.0, 0.0, 0.0, 0.0, 1.0, 0.0, 0.0, 1.0, 0.0, 0.0, 0.0, 1.0, 0.0, 1.0, 0.0, 0.0, 0.0, 0.0, 0.0, 0.0, 1.0, 0.0, 0.0, 0.0, 0.0, 1.0, 0.0, 0.0, 0.0, 0.0, 1.0, 0.0, 0.0, 0.0, 1.0, 0.0, 0.0, 1.0, 0.0, 1.0, 0.0, 0.0, 0.0, 0.0, 0.0, 0.0, 0.0, 1.0, 0.0, 0.0, 1.0, 0.0, 0.0, 1.0, 1.0, 0.0, 4.0, 0.0, 0.0, 0.0, 0.0]\n"
     ]
    }
   ],
   "source": [
    "dist_joins_qald10_wikidata_test=get_dist_joins(\"<http://lsq.aksw.org/graph#qald10-wikidata-test>\")\n",
    "print(dist_joins_qald10_wikidata_test, sep=\"\\t\")"
   ],
   "metadata": {
    "collapsed": false
   }
  },
  {
   "cell_type": "code",
   "execution_count": 12,
   "outputs": [
    {
     "name": "stdout",
     "output_type": "stream",
     "text": [
      "Mean: 0.6224489795918368, Std: 1.1227272382366746, Variance: 1.2605164514785507\n"
     ]
    }
   ],
   "source": [
    "mean_joins_qald10_wd_test, std_joins_qald10_wd_test, var_joins_qald10_wd_test = calculate_variance(dist_joins_qald10_wikidata_test)\n",
    "print(\"Mean: {0}, Std: {1}, Variance: {2}\".format(mean_joins_qald10_wd_test, std_joins_qald10_wd_test, var_joins_qald10_wd_test))"
   ],
   "metadata": {
    "collapsed": false
   }
  },
  {
   "cell_type": "code",
   "execution_count": 13,
   "outputs": [
    {
     "name": "stdout",
     "output_type": "stream",
     "text": [
      "[0.0, 0.0, 2.0, 0.0, 0.0, 0.0, 0.0, 0.0, 2.0, 2.0, 0.0, 0.0, 2.3333333334, 0.0, 0.0, 2.0, 2.0, 2.0, 0.0, 0.0, 0.0, 0.0, 0.0, 0.0, 3.0, 0.0, 0.0, 0.0, 4.0, 2.0, 0.0, 0.0, 2.0, 2.0, 2.0, 3.0, 0.0, 2.0, 2.0, 0.0, 0.0, 0.0, 0.0, 0.0, 2.0, 0.0, 0.0, 0.0, 0.0, 3.0, 0.0, 0.0, 4.0, 0.0, 0.0, 0.0, 0.0, 0.0, 0.0, 0.0, 0.0, 4.0, 2.0, 0.0, 2.0, 2.0, 2.0, 0.0, 0.0, 0.0, 0.0, 2.6666666667, 0.0, 0.0, 0.0, 2.0, 0.0, 0.0, 3.0, 0.0, 2.5, 0.0, 3.0, 2.0, 2.0, 2.0, 0.0, 0.0, 0.0, 2.0, 2.0, 2.0, 0.0, 0.0, 0.0, 0.0, 0.0, 0.0, 0.0, 2.0, 2.0, 2.0, 2.0, 2.0, 2.0, 0.0, 0.0, 0.0, 0.0, 0.0, 2.0, 2.0, 0.0, 0.0, 0.0, 3.0, 2.0, 0.0, 0.0, 3.0, 2.0, 2.5, 2.25, 2.0, 2.0, 0.0, 0.0, 0.0, 0.0, 0.0, 0.0, 0.0, 0.0, 0.0, 2.0, 0.0, 2.0, 0.0, 0.0, 0.0, 0.0, 2.0, 0.0, 2.0, 0.0, 2.0, 0.0, 2.0, 2.0, 2.0, 2.0, 3.0, 2.5, 2.0, 3.0, 0.0, 2.0, 0.0, 0.0, 0.0, 0.0, 2.0, 0.0, 0.0, 2.0, 0.0, 3.0, 2.0, 2.0, 2.0, 0.0, 0.0, 0.0, 0.0, 0.0, 0.0, 0.0, 0.0, 0.0, 0.0, 2.0, 0.0, 0.0, 2.0, 0.0, 2.3333333334, 2.0, 0.0, 2.0, 0.0, 3.0, 0.0, 0.0, 2.3333333334, 0.0, 0.0, 0.0, 0.0, 2.0, 0.0, 0.0, 0.0, 0.0, 0.0, 2.0, 3.0, 4.0, 2.2857142858, 2.0, 2.5, 0.0, 3.0, 2.0, 0.0, 0.0, 0.0, 2.0, 2.0, 2.0, 0.0, 0.0, 0.0, 2.4, 3.0, 0.0, 0.0, 2.0, 2.0, 3.0, 0.0, 0.0, 2.0, 2.0, 0.0, 2.5, 0.0, 2.0, 0.0, 2.3333333334, 2.0, 0.0, 0.0, 0.0, 0.0, 0.0, 0.0, 2.0, 2.0, 2.0, 2.0, 0.0, 2.0, 0.0, 0.0, 0.0, 2.0, 3.0, 0.0, 0.0, 2.0, 0.0, 2.0, 0.0, 2.0, 2.0, 2.0, 0.0, 0.0, 0.0, 0.0, 0.0, 0.0, 0.0, 0.0, 2.0, 0.0, 2.0, 4.0, 0.0, 0.0, 0.0, 2.0, 0.0, 2.0, 0.0, 0.0, 0.0, 0.0, 2.0, 2.0, 0.0, 2.0, 0.0, 2.0, 0.0, 0.0, 2.0, 2.0, 0.0, 0.0, 0.0, 2.0, 0.0, 0.0, 0.0, 2.0, 2.0, 2.0, 2.0, 3.0, 0.0, 0.0, 2.3333333334, 0.0, 2.0, 2.0, 2.5714285715, 2.0, 0.0, 0.0, 3.0, 0.0, 2.3333333334, 0.0, 2.0, 0.0, 0.0, 2.0, 0.0, 0.0, 2.0, 2.0, 0.0, 0.0, 0.0, 3.0, 0.0, 0.0, 2.0, 0.0, 0.0, 0.0, 3.0, 0.0, 2.0, 0.0, 0.0, 0.0, 0.0, 0.0, 0.0, 2.0, 0.0, 0.0, 0.0, 0.0, 2.0, 0.0, 0.0, 0.0, 0.0, 2.0, 0.0, 0.0, 0.0, 2.0, 0.0, 0.0, 2.0, 0.0, 2.0, 0.0, 0.0, 0.0, 0.0, 0.0, 0.0, 0.0, 2.0, 0.0, 0.0, 2.0, 0.0, 0.0, 2.0, 2.0, 0.0, 2.0, 0.0, 0.0, 0.0, 0.0]\n"
     ]
    }
   ],
   "source": [
    "dist_jvd_qald10_wikidata_test=get_dist_jvd(\"<http://lsq.aksw.org/graph#qald10-wikidata-test>\")\n",
    "print(dist_jvd_qald10_wikidata_test, sep=\"\\t\")"
   ],
   "metadata": {
    "collapsed": false
   }
  },
  {
   "cell_type": "code",
   "execution_count": 14,
   "outputs": [
    {
     "name": "stdout",
     "output_type": "stream",
     "text": [
      "Mean: 0.8894740038887755, Std: 1.1333879173018446, Variance: 1.2845681710858128\n"
     ]
    }
   ],
   "source": [
    "mean_jvd_qald10_wd_test, std_jvd_qald10_wd_test, var_jvd_qald10_wd_test = calculate_variance(dist_jvd_qald10_wikidata_test)\n",
    "print(\"Mean: {0}, Std: {1}, Variance: {2}\".format(mean_jvd_qald10_wd_test, std_jvd_qald10_wd_test, var_jvd_qald10_wd_test))"
   ],
   "metadata": {
    "collapsed": false
   }
  },
  {
   "cell_type": "code",
   "execution_count": 15,
   "outputs": [
    {
     "name": "stdout",
     "output_type": "stream",
     "text": [
      "Total queries having functions:  74\n"
     ]
    }
   ],
   "source": [
    "totalFuncs_qald10_wd_test = get_dist_funcs(\"<http://lsq.aksw.org/graph#qald10-wikidata-test>\")\n",
    "print(\"Total queries having functions: \", totalFuncs_qald10_wd_test)"
   ],
   "metadata": {
    "collapsed": false
   }
  },
  {
   "cell_type": "code",
   "execution_count": 16,
   "outputs": [],
   "source": [
    "qald10_wd_test = json.load(open(\"../data/qald_10/qald_10.json\"))\n",
    "qald10_wd_test_sparqls = [question[\"query\"][\"sparql\"] for question in qald10_wd_test[\"questions\"]]"
   ],
   "metadata": {
    "collapsed": false
   }
  },
  {
   "cell_type": "code",
   "execution_count": 17,
   "outputs": [
    {
     "name": "stdout",
     "output_type": "stream",
     "text": [
      "Frequency of each modifier\n",
      "COUNT: 126\n",
      "LIMIT: 17\n",
      "ORDER BY: 17\n",
      "FILTER: 74\n",
      "ASK: 60\n",
      "UNION: 5\n",
      "OFFSET: 3\n",
      "GROUP BY: 95\n",
      "HAVING: 1\n",
      "YEAR: 43\n",
      "NOW: 1\n",
      "\n"
     ]
    }
   ],
   "source": [
    "counts, limits, order_by, filters, asks, unions, offsets, group_by, havings, years, nows = get_frequencies_modifiers(qald10_wd_test_sparqls, \"<http://lsq.aksw.org/graph#qald10-wikidata-test>\")\n",
    "\n",
    "print(\"Frequency of each modifier\\nCOUNT: {0}\\nLIMIT: {1}\\nORDER BY: {2}\\nFILTER: {3}\\nASK: {4}\\nUNION: {5}\\nOFFSET: {6}\\nGROUP BY: {7}\\nHAVING: {8}\\nYEAR: {9}\\nNOW: {10}\\n\".format(counts, limits, order_by, filters, asks, unions, offsets, group_by, havings, years, nows))"
   ],
   "metadata": {
    "collapsed": false
   }
  },
  {
   "cell_type": "code",
   "execution_count": 18,
   "outputs": [
    {
     "name": "stdout",
     "output_type": "stream",
     "text": [
      "Diversity Score of QALD-10 Test set:  1.275097671454253\n"
     ]
    }
   ],
   "source": [
    "# Calculate Diversity Score\n",
    "diversity_qald10_wd_test = calculate_diversity_score([mean_tp_qald10_wd_test, std_tp_qald10_wd_test], [mean_joins_qald10_wd_test, std_joins_qald10_wd_test], [mean_jvd_qald10_wd_test, std_jvd_qald10_wd_test])\n",
    "print(\"Diversity Score of QALD-10 Test set: \", diversity_qald10_wd_test)"
   ],
   "metadata": {
    "collapsed": false
   }
  },
  {
   "cell_type": "markdown",
   "metadata": {
    "collapsed": false
   },
   "source": [
    "# QALD9-Plus-dbpedia-Train"
   ]
  },
  {
   "cell_type": "code",
   "execution_count": 19,
   "metadata": {},
   "outputs": [
    {
     "name": "stdout",
     "output_type": "stream",
     "text": [
      "[4.0, 4.0, 2.0, 1.0, 1.0, 1.0, 1.0, 2.0, 2.0, 1.0, 1.0, 2.0, 1.0, 1.0, 1.0, 4.0, 3.0, 2.0, 2.0, 1.0, 2.0, 1.0, 1.0, 1.0, 2.0, 2.0, 2.0, 1.0, 1.0, 1.0, 3.0, 2.0, 1.0, 1.0, 2.0, 3.0, 1.0, 1.0, 2.0, 5.0, 1.0, 1.0, 2.0, 1.0, 1.0, 3.0, 2.0, 1.0, 3.0, 1.0, 1.0, 4.0, 2.0, 1.0, 1.0, 1.0, 1.0, 2.0, 2.0, 1.0, 1.0, 2.0, 2.0, 3.0, 2.0, 1.0, 1.0, 1.0, 2.0, 1.0, 3.0, 2.0, 2.0, 1.0, 1.0, 2.0, 2.0, 1.0, 2.0, 3.0, 1.0, 1.0, 1.0, 3.0, 2.0, 2.0, 3.0, 2.0, 1.0, 1.0, 1.0, 1.0, 1.0, 2.0, 3.0, 3.0, 2.0, 1.0, 2.0, 3.0, 1.0, 1.0, 2.0, 1.0, 3.0, 1.0, 1.0, 1.0, 2.0, 3.0, 2.0, 1.0, 1.0, 2.0, 2.0, 2.0, 2.0, 1.0, 1.0, 2.0, 2.0, 1.0, 2.0, 3.0, 3.0, 1.0, 4.0, 2.0, 4.0, 2.0, 1.0, 3.0, 1.0, 3.0, 1.0, 2.0, 1.0, 1.0, 2.0, 1.0, 2.0, 3.0, 2.0, 2.0, 3.0, 1.0, 1.0, 1.0, 1.0, 1.0, 1.0, 3.0, 2.0, 2.0, 1.0, 3.0, 1.0, 2.0, 1.0, 1.0, 1.0, 1.0, 1.0, 1.0, 2.0, 4.0, 3.0, 3.0, 5.0, 1.0, 1.0, 1.0, 2.0, 5.0, 1.0, 1.0, 1.0, 3.0, 2.0, 1.0, 3.0, 1.0, 1.0, 4.0, 2.0, 2.0, 1.0, 1.0, 1.0, 1.0, 1.0, 1.0, 2.0, 1.0, 1.0, 3.0, 1.0, 1.0, 4.0, 1.0, 2.0, 1.0, 1.0, 1.0, 1.0, 1.0, 2.0, 5.0, 2.0, 1.0, 1.0, 1.0, 2.0, 1.0, 1.0, 3.0, 1.0, 2.0, 2.0, 1.0, 2.0, 1.0, 1.0, 1.0, 2.0, 3.0, 2.0, 1.0, 1.0, 2.0, 1.0, 3.0, 2.0, 2.0, 1.0, 1.0, 2.0, 5.0, 2.0, 3.0, 1.0, 2.0, 2.0, 1.0, 1.0, 4.0, 3.0, 2.0, 3.0, 2.0, 1.0, 1.0, 1.0, 1.0, 1.0, 2.0, 2.0, 1.0, 1.0, 1.0, 1.0, 1.0, 1.0, 1.0, 1.0, 1.0, 3.0, 5.0, 1.0, 1.0, 1.0, 2.0, 3.0, 3.0, 1.0, 3.0, 1.0, 1.0, 1.0, 1.0, 1.0, 2.0, 1.0, 1.0, 2.0, 1.0, 1.0, 1.0, 1.0, 1.0, 1.0, 1.0, 1.0, 2.0, 1.0, 3.0, 2.0, 2.0, 1.0, 2.0, 2.0, 1.0, 1.0, 1.0, 3.0, 2.0, 1.0, 2.0, 2.0, 3.0, 1.0, 1.0, 2.0, 1.0, 4.0, 1.0, 1.0, 1.0, 1.0, 3.0, 1.0, 2.0, 1.0, 1.0, 1.0, 2.0, 1.0, 3.0, 3.0, 3.0, 2.0, 2.0, 3.0, 1.0, 4.0, 1.0, 5.0, 2.0, 1.0, 1.0, 2.0, 2.0, 2.0, 2.0, 1.0, 1.0, 1.0, 1.0, 1.0, 3.0, 1.0, 1.0, 1.0, 1.0, 2.0, 5.0, 2.0, 1.0, 1.0, 1.0, 1.0, 2.0, 2.0, 2.0, 1.0, 1.0, 1.0, 2.0, 1.0, 2.0, 2.0, 1.0, 2.0, 1.0, 4.0, 1.0, 1.0, 2.0, 1.0, 2.0, 2.0, 2.0, 2.0, 1.0, 1.0, 3.0, 1.0, 1.0, 2.0, 2.0, 2.0, 3.0, 1.0]\n"
     ]
    }
   ],
   "source": [
    "dist_triple_patterns_qald9_dbpedia_train=get_dist_triple_patterns(\"<http://lsq.aksw.org/graph#qald9-plus-dbpedia-train>\")\n",
    "print(dist_triple_patterns_qald9_dbpedia_train, sep=\"\\t\")"
   ]
  },
  {
   "cell_type": "code",
   "execution_count": 20,
   "outputs": [
    {
     "name": "stdout",
     "output_type": "stream",
     "text": [
      "Mean: 1.727735368956743, Std: 0.943529841082765, Variance: 0.8902485610136679\n"
     ]
    }
   ],
   "source": [
    "mean_tp_qald9_dbpedia_train, std_tp_qald9_dbpedia_train, var_tp_qald9_dbpedia_train = calculate_variance(dist_triple_patterns_qald9_dbpedia_train)\n",
    "print(\"Mean: {0}, Std: {1}, Variance: {2}\".format(mean_tp_qald9_dbpedia_train, std_tp_qald9_dbpedia_train, var_tp_qald9_dbpedia_train))"
   ],
   "metadata": {
    "collapsed": false
   }
  },
  {
   "cell_type": "code",
   "execution_count": 21,
   "outputs": [
    {
     "name": "stdout",
     "output_type": "stream",
     "text": [
      "[3.0, 1.0, 1.0, 0.0, 0.0, 0.0, 0.0, 1.0, 1.0, 0.0, 0.0, 1.0, 0.0, 0.0, 0.0, 2.0, 1.0, 1.0, 1.0, 0.0, 1.0, 0.0, 0.0, 0.0, 1.0, 1.0, 1.0, 0.0, 0.0, 0.0, 1.0, 1.0, 0.0, 0.0, 1.0, 0.0, 0.0, 0.0, 1.0, 2.0, 0.0, 0.0, 1.0, 0.0, 0.0, 1.0, 1.0, 0.0, 0.0, 0.0, 0.0, 0.0, 1.0, 0.0, 0.0, 0.0, 0.0, 2.0, 1.0, 0.0, 0.0, 1.0, 1.0, 1.0, 2.0, 0.0, 0.0, 0.0, 1.0, 0.0, 1.0, 1.0, 1.0, 0.0, 0.0, 2.0, 1.0, 0.0, 1.0, 0.0, 0.0, 0.0, 0.0, 1.0, 1.0, 1.0, 1.0, 1.0, 0.0, 0.0, 0.0, 0.0, 0.0, 1.0, 1.0, 1.0, 1.0, 0.0, 1.0, 1.0, 0.0, 0.0, 1.0, 0.0, 0.0, 0.0, 0.0, 0.0, 1.0, 1.0, 1.0, 0.0, 0.0, 1.0, 1.0, 1.0, 1.0, 0.0, 0.0, 1.0, 1.0, 0.0, 1.0, 3.0, 0.0, 0.0, 1.0, 1.0, 1.0, 1.0, 0.0, 2.0, 0.0, 3.0, 0.0, 1.0, 0.0, 0.0, 1.0, 0.0, 1.0, 1.0, 1.0, 2.0, 1.0, 0.0, 0.0, 0.0, 0.0, 0.0, 0.0, 0.0, 1.0, 1.0, 0.0, 1.0, 0.0, 1.0, 0.0, 0.0, 0.0, 0.0, 0.0, 0.0, 1.0, 1.0, 0.0, 2.0, 0.0, 0.0, 0.0, 0.0, 1.0, 3.0, 0.0, 0.0, 0.0, 1.0, 1.0, 0.0, 1.0, 0.0, 0.0, 3.0, 1.0, 1.0, 0.0, 0.0, 0.0, 0.0, 0.0, 0.0, 1.0, 0.0, 0.0, 1.0, 0.0, 0.0, 0.0, 0.0, 1.0, 0.0, 0.0, 0.0, 0.0, 0.0, 1.0, 1.0, 1.0, 0.0, 0.0, 0.0, 1.0, 0.0, 0.0, 1.0, 0.0, 1.0, 1.0, 0.0, 1.0, 0.0, 0.0, 0.0, 1.0, 0.0, 1.0, 0.0, 0.0, 1.0, 0.0, 2.0, 1.0, 1.0, 0.0, 0.0, 1.0, 2.0, 1.0, 0.0, 0.0, 1.0, 1.0, 0.0, 0.0, 2.0, 1.0, 1.0, 1.0, 1.0, 0.0, 0.0, 0.0, 0.0, 0.0, 1.0, 1.0, 0.0, 0.0, 0.0, 0.0, 0.0, 0.0, 0.0, 0.0, 0.0, 2.0, 0.0, 0.0, 0.0, 0.0, 1.0, 3.0, 0.0, 0.0, 1.0, 0.0, 0.0, 0.0, 0.0, 0.0, 1.0, 0.0, 0.0, 1.0, 0.0, 0.0, 0.0, 0.0, 0.0, 0.0, 0.0, 0.0, 1.0, 0.0, 1.0, 1.0, 1.0, 0.0, 1.0, 2.0, 0.0, 0.0, 0.0, 1.0, 1.0, 0.0, 1.0, 1.0, 2.0, 0.0, 0.0, 1.0, 0.0, 1.0, 0.0, 0.0, 0.0, 0.0, 0.0, 0.0, 1.0, 0.0, 0.0, 0.0, 1.0, 0.0, 1.0, 2.0, 1.0, 1.0, 1.0, 2.0, 0.0, 0.0, 0.0, 0.0, 2.0, 0.0, 0.0, 1.0, 1.0, 1.0, 1.0, 0.0, 0.0, 0.0, 0.0, 0.0, 0.0, 0.0, 0.0, 0.0, 0.0, 1.0, 2.0, 1.0, 0.0, 0.0, 0.0, 0.0, 1.0, 1.0, 1.0, 0.0, 0.0, 0.0, 1.0, 0.0, 1.0, 1.0, 0.0, 1.0, 0.0, 2.0, 0.0, 0.0, 1.0, 0.0, 1.0, 1.0, 1.0, 1.0, 0.0, 0.0, 1.0, 0.0, 0.0, 1.0, 1.0, 1.0, 1.0, 0.0]\n"
     ]
    }
   ],
   "source": [
    "dist_joins_qald9_dbpedia_train=get_dist_joins(\"<http://lsq.aksw.org/graph#qald9-plus-dbpedia-train>\")\n",
    "print(dist_joins_qald9_dbpedia_train, sep=\"\\t\")"
   ],
   "metadata": {
    "collapsed": false
   }
  },
  {
   "cell_type": "code",
   "execution_count": 22,
   "outputs": [
    {
     "name": "stdout",
     "output_type": "stream",
     "text": [
      "Mean: 0.5089058524173028, Std: 0.6619787392259084, Variance: 0.43821585118712325\n"
     ]
    }
   ],
   "source": [
    "mean_joins_qald9_dbpedia_train, std_joins_qald9_dbpedia_train, var_joins_qald9_dbpedia_train = calculate_variance(dist_joins_qald9_dbpedia_train)\n",
    "print(\"Mean: {0}, Std: {1}, Variance: {2}\".format(mean_joins_qald9_dbpedia_train, std_joins_qald9_dbpedia_train, var_joins_qald9_dbpedia_train))"
   ],
   "metadata": {
    "collapsed": false
   }
  },
  {
   "cell_type": "code",
   "execution_count": 23,
   "outputs": [
    {
     "name": "stdout",
     "output_type": "stream",
     "text": [
      "[2.3333333334, 2.0, 2.0, 0.0, 0.0, 0.0, 0.0, 2.0, 2.0, 0.0, 0.0, 2.0, 0.0, 0.0, 0.0, 2.0, 3.0, 2.0, 2.0, 0.0, 2.0, 0.0, 0.0, 0.0, 2.0, 2.0, 2.0, 0.0, 0.0, 0.0, 3.0, 2.0, 0.0, 0.0, 2.0, 0.0, 0.0, 0.0, 2.0, 2.0, 0.0, 0.0, 2.0, 0.0, 0.0, 2.0, 2.0, 0.0, 0.0, 0.0, 0.0, 0.0, 2.0, 0.0, 0.0, 0.0, 0.0, 2.0, 2.0, 0.0, 0.0, 2.0, 2.0, 3.0, 2.0, 0.0, 0.0, 0.0, 2.0, 0.0, 3.0, 2.0, 2.0, 0.0, 0.0, 2.0, 2.0, 0.0, 2.0, 0.0, 0.0, 0.0, 0.0, 3.0, 2.0, 2.0, 3.0, 2.0, 0.0, 0.0, 0.0, 0.0, 0.0, 2.0, 3.0, 3.0, 2.0, 0.0, 2.0, 3.0, 0.0, 0.0, 2.0, 0.0, 0.0, 0.0, 0.0, 0.0, 2.0, 3.0, 2.0, 0.0, 0.0, 2.0, 2.0, 2.0, 2.0, 0.0, 0.0, 2.0, 2.0, 0.0, 2.0, 2.0, 0.0, 0.0, 2.0, 2.0, 2.0, 2.0, 0.0, 2.0, 0.0, 2.0, 0.0, 2.0, 0.0, 0.0, 2.0, 0.0, 2.0, 3.0, 2.0, 2.0, 3.0, 0.0, 0.0, 0.0, 0.0, 0.0, 0.0, 0.0, 2.0, 2.0, 0.0, 3.0, 0.0, 2.0, 0.0, 0.0, 0.0, 0.0, 0.0, 0.0, 2.0, 2.0, 0.0, 2.0, 0.0, 0.0, 0.0, 0.0, 2.0, 2.6666666667, 0.0, 0.0, 0.0, 3.0, 2.0, 0.0, 3.0, 0.0, 0.0, 2.3333333334, 2.0, 2.0, 0.0, 0.0, 0.0, 0.0, 0.0, 0.0, 2.0, 0.0, 0.0, 3.0, 0.0, 0.0, 0.0, 0.0, 2.0, 0.0, 0.0, 0.0, 0.0, 0.0, 2.0, 2.0, 2.0, 0.0, 0.0, 0.0, 2.0, 0.0, 0.0, 3.0, 0.0, 2.0, 2.0, 0.0, 2.0, 0.0, 0.0, 0.0, 2.0, 0.0, 2.0, 0.0, 0.0, 2.0, 0.0, 2.0, 2.0, 2.0, 0.0, 0.0, 2.0, 2.0, 2.0, 0.0, 0.0, 2.0, 2.0, 0.0, 0.0, 2.5, 3.0, 2.0, 3.0, 2.0, 0.0, 0.0, 0.0, 0.0, 0.0, 2.0, 2.0, 0.0, 0.0, 0.0, 0.0, 0.0, 0.0, 0.0, 0.0, 0.0, 2.5, 0.0, 0.0, 0.0, 0.0, 2.0, 2.0, 0.0, 0.0, 3.0, 0.0, 0.0, 0.0, 0.0, 0.0, 2.0, 0.0, 0.0, 2.0, 0.0, 0.0, 0.0, 0.0, 0.0, 0.0, 0.0, 0.0, 2.0, 0.0, 3.0, 2.0, 2.0, 0.0, 2.0, 2.0, 0.0, 0.0, 0.0, 3.0, 2.0, 0.0, 2.0, 2.0, 2.5, 0.0, 0.0, 2.0, 0.0, 4.0, 0.0, 0.0, 0.0, 0.0, 0.0, 0.0, 2.0, 0.0, 0.0, 0.0, 2.0, 0.0, 3.0, 2.5, 3.0, 2.0, 2.0, 2.5, 0.0, 0.0, 0.0, 0.0, 2.0, 0.0, 0.0, 2.0, 2.0, 2.0, 2.0, 0.0, 0.0, 0.0, 0.0, 0.0, 0.0, 0.0, 0.0, 0.0, 0.0, 2.0, 2.0, 2.0, 0.0, 0.0, 0.0, 0.0, 2.0, 2.0, 2.0, 0.0, 0.0, 0.0, 2.0, 0.0, 2.0, 2.0, 0.0, 2.0, 0.0, 2.0, 0.0, 0.0, 2.0, 0.0, 2.0, 2.0, 2.0, 2.0, 0.0, 0.0, 3.0, 0.0, 0.0, 2.0, 2.0, 2.0, 3.0, 0.0]\n"
     ]
    }
   ],
   "source": [
    "dist_jvd_qald9_dbpedia_train=get_dist_jvd(\"<http://lsq.aksw.org/graph#qald9-plus-dbpedia-train>\")\n",
    "print(dist_jvd_qald9_dbpedia_train, sep=\"\\t\")"
   ],
   "metadata": {
    "collapsed": false
   }
  },
  {
   "cell_type": "code",
   "execution_count": 24,
   "outputs": [
    {
     "name": "stdout",
     "output_type": "stream",
     "text": [
      "Mean: 0.9410517387620865, Std: 1.1134359842993444, Variance: 1.23973969113265\n"
     ]
    }
   ],
   "source": [
    "mean_jvd_qald9_dbpedia_train, std_jvd_qald9_dbpedia_train, var_jvd_qald9_dbpedia_train = calculate_variance(dist_jvd_qald9_dbpedia_train)\n",
    "print(\"Mean: {0}, Std: {1}, Variance: {2}\".format(mean_jvd_qald9_dbpedia_train, std_jvd_qald9_dbpedia_train, var_jvd_qald9_dbpedia_train))"
   ],
   "metadata": {
    "collapsed": false
   }
  },
  {
   "cell_type": "code",
   "execution_count": 25,
   "outputs": [
    {
     "name": "stdout",
     "output_type": "stream",
     "text": [
      "Total queries having functions:  31\n"
     ]
    }
   ],
   "source": [
    "totalFuncs_qald9_dbpeida_train = get_dist_funcs(\"<http://lsq.aksw.org/graph#qald9-plus-dbpedia-train>\")\n",
    "print(\"Total queries having functions: \", totalFuncs_qald9_dbpeida_train)"
   ],
   "metadata": {
    "collapsed": false
   }
  },
  {
   "cell_type": "code",
   "execution_count": 26,
   "outputs": [],
   "source": [
    "qald9_dbpedia_train = json.load(open(\"/Users/longquan/Documents/OSS/QALD_9_plus/data/qald_9_plus_train_dbpedia.json\"))\n",
    "qald9_dbpedia_train_sparqls = [question[\"query\"][\"sparql\"] for question in qald9_dbpedia_train[\"questions\"]]"
   ],
   "metadata": {
    "collapsed": false
   }
  },
  {
   "cell_type": "code",
   "execution_count": 27,
   "outputs": [
    {
     "name": "stdout",
     "output_type": "stream",
     "text": [
      "Frequency of each modifier\n",
      "COUNT: 57\n",
      "LIMIT: 39\n",
      "ORDER BY: 36\n",
      "FILTER: 31\n",
      "ASK: 37\n",
      "UNION: 29\n",
      "OFFSET: 1\n",
      "GROUP BY: 19\n",
      "HAVING: 3\n",
      "YEAR: 6\n",
      "NOW: 3\n",
      "\n"
     ]
    }
   ],
   "source": [
    "counts, limits, order_by, filters, asks, unions, offsets, group_by, havings, years, nows = get_frequencies_modifiers(qald9_dbpedia_train_sparqls, \"<http://lsq.aksw.org/graph#qald9-plus-dbpedia-train>\")\n",
    "\n",
    "print(\"Frequency of each modifier\\nCOUNT: {0}\\nLIMIT: {1}\\nORDER BY: {2}\\nFILTER: {3}\\nASK: {4}\\nUNION: {5}\\nOFFSET: {6}\\nGROUP BY: {7}\\nHAVING: {8}\\nYEAR: {9}\\nNOW: {10}\\n\".format(counts, limits, order_by, filters, asks, unions, offsets, group_by, havings, years, nows))"
   ],
   "metadata": {
    "collapsed": false
   }
  },
  {
   "cell_type": "code",
   "execution_count": 28,
   "outputs": [
    {
     "name": "stdout",
     "output_type": "stream",
     "text": [
      "Diversity Score of QALD-9-Plus DBpedia Train set:  1.010026202120737\n"
     ]
    }
   ],
   "source": [
    "# Calculate Diversity Score\n",
    "diversity_qald9_dbpedia_train = calculate_diversity_score([mean_tp_qald9_dbpedia_train, std_tp_qald9_dbpedia_train], [mean_joins_qald9_dbpedia_train, std_joins_qald9_dbpedia_train], [mean_jvd_qald9_dbpedia_train, std_jvd_qald9_dbpedia_train])\n",
    "print(\"Diversity Score of QALD-9-Plus DBpedia Train set: \", diversity_qald9_dbpedia_train)"
   ],
   "metadata": {
    "collapsed": false
   }
  },
  {
   "cell_type": "markdown",
   "metadata": {
    "collapsed": false
   },
   "source": [
    "# QALD9-Plus-dbpedia-Test"
   ]
  },
  {
   "cell_type": "code",
   "execution_count": 29,
   "metadata": {},
   "outputs": [
    {
     "name": "stdout",
     "output_type": "stream",
     "text": [
      "[3.0, 3.0, 1.0, 1.0, 1.0, 2.0, 1.0, 2.0, 2.0, 2.0, 1.0, 2.0, 4.0, 1.0, 4.0, 3.0, 4.0, 2.0, 2.0, 3.0, 1.0, 4.0, 2.0, 1.0, 1.0, 1.0, 1.0, 1.0, 1.0, 1.0, 2.0, 2.0, 1.0, 1.0, 2.0, 3.0, 1.0, 3.0, 2.0, 1.0, 1.0, 1.0, 2.0, 1.0, 3.0, 2.0, 4.0, 2.0, 2.0, 1.0, 2.0, 3.0, 4.0, 2.0, 2.0, 2.0, 3.0, 3.0, 1.0, 1.0, 1.0, 4.0, 4.0, 4.0, 1.0, 1.0, 2.0, 1.0, 1.0, 1.0, 2.0, 1.0, 2.0, 1.0, 2.0, 2.0, 3.0, 2.0, 4.0, 3.0, 2.0, 1.0, 2.0, 2.0, 1.0, 3.0, 3.0, 1.0, 1.0, 1.0, 1.0, 1.0, 2.0, 1.0, 1.0, 1.0, 7.0, 2.0, 2.0, 3.0, 2.0, 3.0, 2.0, 1.0, 2.0, 1.0, 1.0, 1.0, 2.0, 3.0, 1.0, 1.0, 1.0, 2.0, 1.0, 2.0, 4.0, 3.0, 1.0, 2.0, 1.0, 1.0, 1.0, 1.0, 5.0, 3.0, 1.0, 6.0, 1.0, 2.0, 3.0, 2.0, 1.0, 1.0, 2.0, 1.0, 1.0, 5.0, 3.0, 1.0, 4.0, 2.0, 2.0, 1.0, 1.0, 3.0, 1.0, 5.0, 2.0]\n"
     ]
    }
   ],
   "source": [
    "dist_triple_patterns_qald9_dbpedia_test=get_dist_triple_patterns(\"<http://lsq.aksw.org/graph#qald9-plus-dbpedia-test>\")\n",
    "print(dist_triple_patterns_qald9_dbpedia_test, sep=\"\\t\")"
   ]
  },
  {
   "cell_type": "code",
   "execution_count": 30,
   "outputs": [
    {
     "name": "stdout",
     "output_type": "stream",
     "text": [
      "Mean: 1.9932885906040267, Std: 1.167206521728897, Variance: 1.3623710643664702\n"
     ]
    }
   ],
   "source": [
    "mean_tp_qald9_dbpedia_test, std_tp_qald9_dbpedia_test, var_tp_qald9_dbpedia_test = calculate_variance(dist_triple_patterns_qald9_dbpedia_test)\n",
    "print(\"Mean: {0}, Std: {1}, Variance: {2}\".format(mean_tp_qald9_dbpedia_test, std_tp_qald9_dbpedia_test, var_tp_qald9_dbpedia_test))"
   ],
   "metadata": {
    "collapsed": false
   }
  },
  {
   "cell_type": "code",
   "execution_count": 31,
   "outputs": [
    {
     "name": "stdout",
     "output_type": "stream",
     "text": [
      "[0.0, 3.0, 0.0, 0.0, 0.0, 1.0, 0.0, 1.0, 1.0, 1.0, 0.0, 0.0, 2.0, 0.0, 3.0, 0.0, 1.0, 1.0, 1.0, 2.0, 0.0, 1.0, 1.0, 0.0, 0.0, 0.0, 0.0, 0.0, 0.0, 0.0, 1.0, 1.0, 0.0, 0.0, 1.0, 2.0, 0.0, 2.0, 1.0, 0.0, 0.0, 0.0, 1.0, 0.0, 2.0, 2.0, 1.0, 1.0, 2.0, 0.0, 1.0, 3.0, 1.0, 1.0, 0.0, 1.0, 2.0, 1.0, 0.0, 0.0, 0.0, 2.0, 2.0, 4.0, 0.0, 0.0, 1.0, 0.0, 0.0, 0.0, 1.0, 0.0, 1.0, 0.0, 1.0, 1.0, 1.0, 1.0, 0.0, 1.0, 1.0, 0.0, 1.0, 1.0, 0.0, 2.0, 2.0, 0.0, 0.0, 0.0, 0.0, 0.0, 1.0, 0.0, 0.0, 0.0, 0.0, 1.0, 1.0, 1.0, 1.0, 1.0, 1.0, 0.0, 1.0, 0.0, 0.0, 0.0, 1.0, 2.0, 0.0, 0.0, 0.0, 1.0, 0.0, 0.0, 0.0, 0.0, 0.0, 1.0, 0.0, 0.0, 0.0, 0.0, 2.0, 1.0, 0.0, 1.0, 0.0, 1.0, 3.0, 1.0, 0.0, 0.0, 1.0, 0.0, 0.0, 3.0, 1.0, 0.0, 1.0, 1.0, 1.0, 0.0, 0.0, 3.0, 0.0, 3.0, 1.0]\n"
     ]
    }
   ],
   "source": [
    "dist_joins_qald9_dbpedia_test=get_dist_joins(\"<http://lsq.aksw.org/graph#qald9-plus-dbpedia-test>\")\n",
    "print(dist_joins_qald9_dbpedia_test, sep=\"\\t\")"
   ],
   "metadata": {
    "collapsed": false
   }
  },
  {
   "cell_type": "code",
   "execution_count": 32,
   "outputs": [
    {
     "name": "stdout",
     "output_type": "stream",
     "text": [
      "Mean: 0.7114093959731543, Std: 0.8692765024801168, Variance: 0.7556416377640645\n"
     ]
    }
   ],
   "source": [
    "mean_joins_qald9_dbpedia_test, std_joins_qald9_dbpedia_test, var_joins_qald9_dbpedia_test = calculate_variance(dist_joins_qald9_dbpedia_test)\n",
    "print(\"Mean: {0}, Std: {1}, Variance: {2}\".format(mean_joins_qald9_dbpedia_test, std_joins_qald9_dbpedia_test, var_joins_qald9_dbpedia_test))"
   ],
   "metadata": {
    "collapsed": false
   }
  },
  {
   "cell_type": "code",
   "execution_count": 33,
   "outputs": [
    {
     "name": "stdout",
     "output_type": "stream",
     "text": [
      "[0.0, 2.0, 0.0, 0.0, 0.0, 2.0, 0.0, 2.0, 2.0, 2.0, 0.0, 0.0, 2.5, 0.0, 2.3333333334, 0.0, 4.0, 2.0, 2.0, 2.0, 0.0, 3.0, 2.0, 0.0, 0.0, 0.0, 0.0, 0.0, 0.0, 0.0, 2.0, 2.0, 0.0, 0.0, 2.0, 2.5, 0.0, 2.0, 2.0, 0.0, 0.0, 0.0, 2.0, 0.0, 2.5, 2.0, 2.0, 2.0, 2.0, 0.0, 2.0, 2.0, 3.0, 2.0, 0.0, 2.0, 2.5, 2.0, 0.0, 0.0, 0.0, 2.0, 2.0, 2.0, 0.0, 0.0, 2.0, 0.0, 0.0, 0.0, 2.0, 0.0, 2.0, 0.0, 2.0, 2.0, 3.0, 2.0, 0.0, 3.0, 2.0, 0.0, 2.0, 2.0, 0.0, 2.0, 2.0, 0.0, 0.0, 0.0, 0.0, 0.0, 2.0, 0.0, 0.0, 0.0, 0.0, 2.0, 2.0, 3.0, 2.0, 3.0, 2.0, 0.0, 2.0, 0.0, 0.0, 0.0, 2.0, 2.0, 0.0, 0.0, 0.0, 2.0, 0.0, 0.0, 0.0, 0.0, 0.0, 2.0, 0.0, 0.0, 0.0, 0.0, 2.0, 3.0, 0.0, 2.0, 0.0, 2.0, 2.0, 2.0, 0.0, 0.0, 2.0, 0.0, 0.0, 2.0, 3.0, 0.0, 2.0, 2.0, 2.0, 0.0, 0.0, 2.0, 0.0, 2.0, 2.0]\n"
     ]
    }
   ],
   "source": [
    "dist_jvd_qald9_dbpedia_test=get_dist_jvd(\"<http://lsq.aksw.org/graph#qald9-plus-dbpedia-test>\")\n",
    "print(dist_jvd_qald9_dbpedia_test, sep=\"\\t\")"
   ],
   "metadata": {
    "collapsed": false
   }
  },
  {
   "cell_type": "code",
   "execution_count": 34,
   "outputs": [
    {
     "name": "stdout",
     "output_type": "stream",
     "text": [
      "Mean: 1.0894854586134228, Std: 1.1160351631712604, Variance: 1.245534485434702\n"
     ]
    }
   ],
   "source": [
    "mean_jvd_qald9_dbpedia_test, std_jvd_qald9_dbpedia_test, var_jvd_qald9_dbpedia_test = calculate_variance(dist_jvd_qald9_dbpedia_test)\n",
    "print(\"Mean: {0}, Std: {1}, Variance: {2}\".format(mean_jvd_qald9_dbpedia_test, std_jvd_qald9_dbpedia_test, var_jvd_qald9_dbpedia_test))"
   ],
   "metadata": {
    "collapsed": false
   }
  },
  {
   "cell_type": "code",
   "execution_count": 35,
   "outputs": [
    {
     "name": "stdout",
     "output_type": "stream",
     "text": [
      "Total queries having functions:  17\n"
     ]
    }
   ],
   "source": [
    "totalFuncs_qald9_dbpeida_test = get_dist_funcs(\"<http://lsq.aksw.org/graph#qald9-plus-dbpedia-test>\")\n",
    "print(\"Total queries having functions: \", totalFuncs_qald9_dbpeida_test)"
   ],
   "metadata": {
    "collapsed": false
   }
  },
  {
   "cell_type": "code",
   "execution_count": 36,
   "outputs": [],
   "source": [
    "qald9_dbpedia_test = json.load(open(\"/Users/longquan/Documents/OSS/QALD_9_plus/data/qald_9_plus_test_dbpedia.json\"))\n",
    "qald9_dbpedia_test_sparqls = [question[\"query\"][\"sparql\"] for question in qald9_dbpedia_test[\"questions\"]]"
   ],
   "metadata": {
    "collapsed": false
   }
  },
  {
   "cell_type": "code",
   "execution_count": 37,
   "outputs": [
    {
     "name": "stdout",
     "output_type": "stream",
     "text": [
      "Frequency of each modifier\n",
      "COUNT: 33\n",
      "LIMIT: 11\n",
      "ORDER BY: 11\n",
      "FILTER: 17\n",
      "ASK: 4\n",
      "UNION: 17\n",
      "OFFSET: 0\n",
      "GROUP BY: 11\n",
      "HAVING: 2\n",
      "YEAR: 10\n",
      "NOW: 2\n",
      "\n"
     ]
    }
   ],
   "source": [
    "counts, limits, order_by, filters, asks, unions, offsets, group_by, havings, years, nows = get_frequencies_modifiers(qald9_dbpedia_test_sparqls, \"<http://lsq.aksw.org/graph#qald9-plus-dbpedia-test>\")\n",
    "\n",
    "print(\"Frequency of each modifier\\nCOUNT: {0}\\nLIMIT: {1}\\nORDER BY: {2}\\nFILTER: {3}\\nASK: {4}\\nUNION: {5}\\nOFFSET: {6}\\nGROUP BY: {7}\\nHAVING: {8}\\nYEAR: {9}\\nNOW: {10}\\n\".format(counts, limits, order_by, filters, asks, unions, offsets, group_by, havings, years, nows))"
   ],
   "metadata": {
    "collapsed": false
   }
  },
  {
   "cell_type": "code",
   "execution_count": 38,
   "outputs": [
    {
     "name": "stdout",
     "output_type": "stream",
     "text": [
      "Diversity Score of QALD-9-Plus DBpedia Test set:  0.9439482740620054\n"
     ]
    }
   ],
   "source": [
    "# Calculate Diversity Score\n",
    "diversity_qald9_dbpedia_test = calculate_diversity_score([mean_tp_qald9_dbpedia_test, std_tp_qald9_dbpedia_test], [mean_joins_qald9_dbpedia_test, std_joins_qald9_dbpedia_test], [mean_jvd_qald9_dbpedia_test, std_jvd_qald9_dbpedia_test])\n",
    "print(\"Diversity Score of QALD-9-Plus DBpedia Test set: \", diversity_qald9_dbpedia_test)"
   ],
   "metadata": {
    "collapsed": false
   }
  },
  {
   "cell_type": "markdown",
   "metadata": {
    "collapsed": false
   },
   "source": [
    "# QALD9-Plus-wikidata-Train"
   ]
  },
  {
   "cell_type": "code",
   "execution_count": 39,
   "metadata": {},
   "outputs": [
    {
     "name": "stdout",
     "output_type": "stream",
     "text": [
      "[0.0, 2.0, 2.0, 2.0, 2.0, 1.0, 1.0, 3.0, 1.0, 2.0, 1.0, 3.0, 1.0, 1.0, 3.0, 2.0, 1.0, 3.0, 1.0, 2.0, 3.0, 1.0, 1.0, 3.0, 2.0, 1.0, 2.0, 3.0, 1.0, 2.0, 1.0, 3.0, 1.0, 2.0, 2.0, 1.0, 1.0, 2.0, 3.0, 2.0, 4.0, 1.0, 2.0, 1.0, 1.0, 2.0, 1.0, 1.0, 4.0, 1.0, 1.0, 2.0, 1.0, 1.0, 1.0, 1.0, 2.0, 1.0, 2.0, 1.0, 1.0, 1.0, 1.0, 1.0, 1.0, 1.0, 1.0, 1.0, 1.0, 2.0, 2.0, 1.0, 2.0, 3.0, 1.0, 2.0, 3.0, 2.0, 2.0, 1.0, 2.0, 3.0, 1.0, 2.0, 0.0, 1.0, 2.0, 1.0, 1.0, 1.0, 1.0, 4.0, 4.0, 3.0, 2.0, 1.0, 1.0, 1.0, 3.0, 1.0, 2.0, 1.0, 2.0, 1.0, 2.0, 8.0, 1.0, 1.0, 1.0, 2.0, 4.0, 3.0, 2.0, 6.0, 1.0, 2.0, 1.0, 1.0, 1.0, 1.0, 2.0, 2.0, 1.0, 1.0, 1.0, 2.0, 1.0, 0.0, 1.0, 1.0, 2.0, 3.0, 1.0, 1.0, 1.0, 1.0, 1.0, 1.0, 1.0, 2.0, 3.0, 5.0, 1.0, 0.0, 3.0, 3.0, 3.0, 1.0, 1.0, 1.0, 2.0, 2.0, 3.0, 1.0, 2.0, 2.0, 2.0, 2.0, 1.0, 1.0, 4.0, 1.0, 1.0, 0.0, 1.0, 2.0, 0.0, 1.0, 5.0, 1.0, 2.0, 1.0, 1.0, 3.0, 1.0, 1.0, 1.0, 2.0, 1.0, 2.0, 2.0, 1.0, 1.0, 1.0, 0.0, 1.0, 2.0, 2.0, 2.0, 2.0, 1.0, 1.0, 1.0, 4.0, 2.0, 1.0, 1.0, 1.0, 2.0, 0.0, 2.0, 2.0, 1.0, 2.0, 3.0, 1.0, 2.0, 1.0, 2.0, 1.0, 2.0, 3.0, 1.0, 2.0, 1.0, 2.0, 1.0, 2.0, 2.0, 3.0, 1.0, 2.0, 1.0, 3.0, 0.0, 3.0, 1.0, 1.0, 1.0, 3.0, 1.0, 2.0, 2.0, 2.0, 2.0, 1.0, 1.0, 1.0, 1.0, 3.0, 2.0, 1.0, 3.0, 3.0, 2.0, 2.0, 1.0, 1.0, 3.0, 1.0, 3.0, 1.0, 1.0, 2.0, 1.0, 2.0, 2.0, 1.0, 1.0, 1.0, 2.0, 1.0, 2.0, 1.0, 1.0, 1.0, 1.0, 2.0, 1.0, 2.0, 11.0, 2.0, 1.0, 1.0, 2.0, 1.0, 2.0, 2.0, 1.0, 0.0, 1.0, 1.0, 2.0, 2.0, 1.0, 1.0, 2.0, 1.0, 3.0, 2.0, 1.0, 1.0, 1.0, 1.0, 11.0, 1.0, 1.0, 5.0, 1.0, 1.0, 1.0, 6.0, 1.0, 2.0, 2.0, 1.0, 1.0, 1.0, 2.0, 0.0, 2.0, 1.0, 1.0, 1.0, 1.0, 1.0, 1.0, 1.0, 1.0, 2.0, 1.0, 1.0, 1.0, 1.0, 2.0, 1.0, 1.0, 1.0, 1.0, 1.0, 1.0, 2.0, 3.0, 1.0, 4.0, 2.0, 1.0, 3.0, 2.0, 1.0, 2.0, 0.0, 3.0, 2.0, 3.0, 3.0, 3.0, 1.0, 2.0, 3.0, 2.0, 1.0, 1.0, 0.0, 2.0, 1.0, 1.0, 1.0, 3.0, 1.0, 1.0, 1.0]\n"
     ]
    }
   ],
   "source": [
    "dist_triple_patterns_qald9_wikidata_train=get_dist_triple_patterns(\"<http://lsq.aksw.org/graph#qald9-plus-wikidata-train>\")\n",
    "print(dist_triple_patterns_qald9_wikidata_train, sep=\"\\t\")"
   ]
  },
  {
   "cell_type": "code",
   "execution_count": 40,
   "outputs": [
    {
     "name": "stdout",
     "output_type": "stream",
     "text": [
      "Mean: 1.6850828729281768, Std: 1.2146657311523796, Variance: 1.4754128384359448\n"
     ]
    }
   ],
   "source": [
    "mean_tp_qald9_wd_train, std_tp_qald9_wd_train, var_tp_qald9_wd_train = calculate_variance(dist_triple_patterns_qald9_wikidata_train)\n",
    "print(\"Mean: {0}, Std: {1}, Variance: {2}\".format(mean_tp_qald9_wd_train, std_tp_qald9_wd_train, var_tp_qald9_wd_train))"
   ],
   "metadata": {
    "collapsed": false
   }
  },
  {
   "cell_type": "code",
   "execution_count": 41,
   "outputs": [
    {
     "name": "stdout",
     "output_type": "stream",
     "text": [
      "[0.0, 1.0, 1.0, 1.0, 0.0, 0.0, 0.0, 1.0, 0.0, 1.0, 0.0, 1.0, 0.0, 0.0, 2.0, 1.0, 0.0, 1.0, 0.0, 0.0, 2.0, 0.0, 0.0, 1.0, 1.0, 0.0, 1.0, 1.0, 0.0, 1.0, 0.0, 3.0, 0.0, 1.0, 1.0, 0.0, 0.0, 1.0, 1.0, 1.0, 2.0, 0.0, 1.0, 0.0, 0.0, 1.0, 0.0, 0.0, 1.0, 0.0, 0.0, 1.0, 0.0, 0.0, 0.0, 0.0, 1.0, 0.0, 1.0, 0.0, 0.0, 0.0, 0.0, 0.0, 0.0, 0.0, 0.0, 0.0, 0.0, 1.0, 1.0, 0.0, 1.0, 1.0, 0.0, 1.0, 1.0, 1.0, 1.0, 0.0, 1.0, 1.0, 0.0, 1.0, 0.0, 0.0, 1.0, 0.0, 0.0, 0.0, 0.0, 1.0, 1.0, 1.0, 1.0, 0.0, 0.0, 0.0, 1.0, 0.0, 1.0, 0.0, 1.0, 0.0, 1.0, 6.0, 0.0, 0.0, 0.0, 0.0, 2.0, 1.0, 1.0, 3.0, 0.0, 2.0, 0.0, 0.0, 0.0, 0.0, 1.0, 1.0, 0.0, 0.0, 0.0, 1.0, 0.0, 0.0, 0.0, 0.0, 1.0, 1.0, 0.0, 0.0, 0.0, 0.0, 0.0, 0.0, 0.0, 2.0, 2.0, 2.0, 0.0, 0.0, 1.0, 1.0, 1.0, 0.0, 0.0, 0.0, 1.0, 1.0, 1.0, 0.0, 1.0, 1.0, 1.0, 1.0, 0.0, 0.0, 2.0, 0.0, 0.0, 0.0, 0.0, 1.0, 0.0, 0.0, 4.0, 0.0, 1.0, 0.0, 0.0, 2.0, 0.0, 0.0, 0.0, 2.0, 0.0, 1.0, 1.0, 0.0, 0.0, 0.0, 0.0, 0.0, 1.0, 1.0, 1.0, 1.0, 0.0, 0.0, 0.0, 6.0, 1.0, 0.0, 0.0, 0.0, 0.0, 0.0, 0.0, 1.0, 0.0, 1.0, 1.0, 0.0, 2.0, 0.0, 1.0, 0.0, 2.0, 1.0, 0.0, 1.0, 0.0, 1.0, 0.0, 1.0, 1.0, 2.0, 0.0, 2.0, 0.0, 1.0, 0.0, 1.0, 0.0, 0.0, 0.0, 1.0, 0.0, 1.0, 1.0, 1.0, 1.0, 0.0, 0.0, 0.0, 0.0, 2.0, 1.0, 0.0, 3.0, 1.0, 1.0, 1.0, 0.0, 0.0, 1.0, 0.0, 2.0, 0.0, 0.0, 2.0, 0.0, 1.0, 1.0, 0.0, 0.0, 0.0, 2.0, 0.0, 1.0, 0.0, 0.0, 0.0, 0.0, 1.0, 0.0, 1.0, 8.0, 1.0, 0.0, 0.0, 1.0, 0.0, 1.0, 0.0, 0.0, 0.0, 0.0, 0.0, 1.0, 0.0, 0.0, 0.0, 1.0, 0.0, 1.0, 1.0, 0.0, 0.0, 0.0, 0.0, 5.0, 0.0, 0.0, 2.0, 0.0, 0.0, 0.0, 3.0, 0.0, 1.0, 1.0, 0.0, 0.0, 0.0, 1.0, 0.0, 1.0, 0.0, 0.0, 0.0, 0.0, 0.0, 0.0, 0.0, 0.0, 1.0, 0.0, 0.0, 0.0, 0.0, 1.0, 0.0, 0.0, 0.0, 0.0, 0.0, 0.0, 1.0, 3.0, 0.0, 3.0, 1.0, 0.0, 1.0, 1.0, 0.0, 1.0, 0.0, 0.0, 0.0, 1.0, 1.0, 1.0, 0.0, 1.0, 1.0, 1.0, 0.0, 0.0, 0.0, 1.0, 0.0, 0.0, 0.0, 1.0, 0.0, 0.0, 0.0]\n"
     ]
    }
   ],
   "source": [
    "dist_joins_qald9_wikidata_train=get_dist_joins(\"<http://lsq.aksw.org/graph#qald9-plus-wikidata-train>\")\n",
    "print(dist_joins_qald9_wikidata_train, sep=\"\\t\")"
   ],
   "metadata": {
    "collapsed": false
   }
  },
  {
   "cell_type": "code",
   "execution_count": 42,
   "outputs": [
    {
     "name": "stdout",
     "output_type": "stream",
     "text": [
      "Mean: 0.5773480662983426, Std: 0.9288712542794332, Variance: 0.8628018070266474\n"
     ]
    }
   ],
   "source": [
    "mean_joins_qald9_wd_train, std_joins_qald9_wd_train, var_joins_qald9_wd_train = calculate_variance(dist_joins_qald9_wikidata_train)\n",
    "print(\"Mean: {0}, Std: {1}, Variance: {2}\".format(mean_joins_qald9_wd_train, std_joins_qald9_wd_train, var_joins_qald9_wd_train))"
   ],
   "metadata": {
    "collapsed": false
   }
  },
  {
   "cell_type": "code",
   "execution_count": 43,
   "outputs": [
    {
     "name": "stdout",
     "output_type": "stream",
     "text": [
      "[0.0, 2.0, 2.0, 2.0, 0.0, 0.0, 0.0, 3.0, 0.0, 2.0, 0.0, 2.0, 0.0, 0.0, 2.0, 2.0, 0.0, 3.0, 0.0, 0.0, 2.0, 0.0, 0.0, 3.0, 2.0, 0.0, 2.0, 3.0, 0.0, 2.0, 0.0, 2.3333333334, 0.0, 2.0, 2.0, 0.0, 0.0, 2.0, 3.0, 2.0, 2.5, 0.0, 2.0, 0.0, 0.0, 2.0, 0.0, 0.0, 2.0, 0.0, 0.0, 2.0, 0.0, 0.0, 0.0, 0.0, 2.0, 0.0, 2.0, 0.0, 0.0, 0.0, 0.0, 0.0, 0.0, 0.0, 0.0, 0.0, 0.0, 2.0, 2.0, 0.0, 2.0, 3.0, 0.0, 2.0, 3.0, 2.0, 2.0, 0.0, 2.0, 3.0, 0.0, 2.0, 0.0, 0.0, 2.0, 0.0, 0.0, 0.0, 0.0, 4.0, 3.0, 3.0, 2.0, 0.0, 0.0, 0.0, 3.0, 0.0, 2.0, 0.0, 2.0, 0.0, 2.0, 2.6666666667, 0.0, 0.0, 0.0, 0.0, 2.5, 3.0, 2.0, 2.6666666667, 0.0, 2.0, 0.0, 0.0, 0.0, 0.0, 2.0, 2.0, 0.0, 0.0, 0.0, 2.0, 0.0, 0.0, 0.0, 0.0, 2.0, 3.0, 0.0, 0.0, 0.0, 0.0, 0.0, 0.0, 0.0, 2.0, 2.0, 2.0, 0.0, 0.0, 3.0, 3.0, 3.0, 0.0, 0.0, 0.0, 2.0, 2.0, 3.0, 0.0, 2.0, 2.0, 2.0, 2.0, 0.0, 0.0, 2.5, 0.0, 0.0, 0.0, 0.0, 2.0, 0.0, 0.0, 2.25, 0.0, 2.0, 0.0, 0.0, 2.0, 0.0, 0.0, 0.0, 2.0, 0.0, 2.0, 2.0, 0.0, 0.0, 0.0, 0.0, 0.0, 2.0, 2.0, 2.0, 2.0, 0.0, 0.0, 0.0, 2.0, 2.0, 0.0, 0.0, 0.0, 0.0, 0.0, 0.0, 2.0, 0.0, 2.0, 3.0, 0.0, 2.0, 0.0, 2.0, 0.0, 2.0, 3.0, 0.0, 2.0, 0.0, 2.0, 0.0, 2.0, 2.0, 2.0, 0.0, 2.0, 0.0, 3.0, 0.0, 3.0, 0.0, 0.0, 0.0, 3.0, 0.0, 2.0, 2.0, 2.0, 2.0, 0.0, 0.0, 0.0, 0.0, 2.5, 2.0, 0.0, 2.0, 3.0, 2.0, 2.0, 0.0, 0.0, 3.0, 0.0, 2.0, 0.0, 0.0, 2.0, 0.0, 2.0, 2.0, 0.0, 0.0, 0.0, 2.0, 0.0, 2.0, 0.0, 0.0, 0.0, 0.0, 2.0, 0.0, 2.0, 2.5, 2.0, 0.0, 0.0, 2.0, 0.0, 2.0, 0.0, 0.0, 0.0, 0.0, 0.0, 2.0, 0.0, 0.0, 0.0, 2.0, 0.0, 3.0, 2.0, 0.0, 0.0, 0.0, 0.0, 2.8, 0.0, 0.0, 3.0, 0.0, 0.0, 0.0, 2.3333333334, 0.0, 2.0, 2.0, 0.0, 0.0, 0.0, 2.0, 0.0, 2.0, 0.0, 0.0, 0.0, 0.0, 0.0, 0.0, 0.0, 0.0, 2.0, 0.0, 0.0, 0.0, 0.0, 2.0, 0.0, 0.0, 0.0, 0.0, 0.0, 0.0, 2.0, 2.0, 0.0, 2.3333333334, 2.0, 0.0, 2.0, 2.0, 0.0, 2.0, 0.0, 0.0, 0.0, 3.0, 3.0, 3.0, 0.0, 2.0, 3.0, 2.0, 0.0, 0.0, 0.0, 2.0, 0.0, 0.0, 0.0, 3.0, 0.0, 0.0, 0.0]\n"
     ]
    }
   ],
   "source": [
    "dist_jvd_qald9_wikidata_train=get_dist_jvd(\"<http://lsq.aksw.org/graph#qald9-plus-wikidata-train>\")\n",
    "print(dist_jvd_qald9_wikidata_train, sep=\"\\t\")"
   ],
   "metadata": {
    "collapsed": false
   }
  },
  {
   "cell_type": "code",
   "execution_count": 44,
   "outputs": [
    {
     "name": "stdout",
     "output_type": "stream",
     "text": [
      "Mean: 0.9527163904243093, Std: 1.1480611220972257, Variance: 1.318044340071141\n"
     ]
    }
   ],
   "source": [
    "mean_jvd_qald9_wd_train, std_jvd_qald9_wd_train, var_jvd_qald9_wd_train = calculate_variance(dist_jvd_qald9_wikidata_train)\n",
    "print(\"Mean: {0}, Std: {1}, Variance: {2}\".format(mean_jvd_qald9_wd_train, std_jvd_qald9_wd_train, var_jvd_qald9_wd_train))"
   ],
   "metadata": {
    "collapsed": false
   }
  },
  {
   "cell_type": "code",
   "execution_count": 45,
   "outputs": [
    {
     "name": "stdout",
     "output_type": "stream",
     "text": [
      "Total queries having functions:  31\n"
     ]
    }
   ],
   "source": [
    "totalFuncs_qald9_wd_train = get_dist_funcs(\"<http://lsq.aksw.org/graph#qald9-plus-wikidata-train>\")\n",
    "print(\"Total queries having functions: \", totalFuncs_qald9_wd_train)"
   ],
   "metadata": {
    "collapsed": false
   }
  },
  {
   "cell_type": "code",
   "execution_count": 46,
   "outputs": [],
   "source": [
    "qald9_wd_train = json.load(open(\"/Users/longquan/Documents/OSS/QALD_9_plus/data/qald_9_plus_train_wikidata.json\"))\n",
    "qald9_wd_train_sparqls = [question[\"query\"][\"sparql\"] for question in qald9_wd_train[\"questions\"]]"
   ],
   "metadata": {
    "collapsed": false
   }
  },
  {
   "cell_type": "code",
   "execution_count": 47,
   "outputs": [
    {
     "name": "stdout",
     "output_type": "stream",
     "text": [
      "Frequency of each modifier\n",
      "COUNT: 32\n",
      "LIMIT: 43\n",
      "ORDER BY: 43\n",
      "FILTER: 31\n",
      "ASK: 36\n",
      "UNION: 10\n",
      "OFFSET: 2\n",
      "GROUP BY: 23\n",
      "HAVING: 1\n",
      "YEAR: 20\n",
      "NOW: 1\n",
      "\n"
     ]
    }
   ],
   "source": [
    "counts, limits, order_by, filters, asks, unions, offsets, group_by, havings, years, nows = get_frequencies_modifiers(qald9_wd_train_sparqls, \"<http://lsq.aksw.org/graph#qald9-plus-wikidata-train>\")\n",
    "\n",
    "print(\"Frequency of each modifier\\nCOUNT: {0}\\nLIMIT: {1}\\nORDER BY: {2}\\nFILTER: {3}\\nASK: {4}\\nUNION: {5}\\nOFFSET: {6}\\nGROUP BY: {7}\\nHAVING: {8}\\nYEAR: {9}\\nNOW: {10}\\n\".format(counts, limits, order_by, filters, asks, unions, offsets, group_by, havings, years, nows))"
   ],
   "metadata": {
    "collapsed": false
   }
  },
  {
   "cell_type": "code",
   "execution_count": 48,
   "outputs": [
    {
     "name": "stdout",
     "output_type": "stream",
     "text": [
      "Diversity Score of QALD-9-Plus Wikidata Train set:  1.178244171151099\n"
     ]
    }
   ],
   "source": [
    "# Calculate Diversity Score\n",
    "diversity_qald9_wd_train = calculate_diversity_score([mean_tp_qald9_wd_train, std_tp_qald9_wd_train], [mean_joins_qald9_wd_train, std_joins_qald9_wd_train], [mean_jvd_qald9_wd_train, std_jvd_qald9_wd_train])\n",
    "print(\"Diversity Score of QALD-9-Plus Wikidata Train set: \", diversity_qald9_wd_train)"
   ],
   "metadata": {
    "collapsed": false
   }
  },
  {
   "cell_type": "markdown",
   "metadata": {
    "collapsed": false
   },
   "source": [
    "# QALD9-Plus-wikidata-Test"
   ]
  },
  {
   "cell_type": "code",
   "execution_count": 49,
   "metadata": {},
   "outputs": [
    {
     "name": "stdout",
     "output_type": "stream",
     "text": [
      "[3.0, 1.0, 1.0, 1.0, 1.0, 3.0, 1.0, 1.0, 4.0, 1.0, 1.0, 1.0, 2.0, 1.0, 2.0, 2.0, 0.0, 1.0, 2.0, 1.0, 3.0, 2.0, 3.0, 3.0, 1.0, 1.0, 1.0, 1.0, 1.0, 1.0, 6.0, 3.0, 1.0, 1.0, 2.0, 2.0, 2.0, 1.0, 3.0, 1.0, 2.0, 1.0, 0.0, 2.0, 1.0, 1.0, 1.0, 1.0, 1.0, 1.0, 1.0, 3.0, 3.0, 2.0, 1.0, 1.0, 3.0, 0.0, 4.0, 1.0, 0.0, 1.0, 3.0, 2.0, 1.0, 1.0, 1.0, 1.0, 2.0, 3.0, 3.0, 2.0, 1.0, 1.0, 2.0, 1.0, 1.0, 1.0, 2.0, 3.0, 1.0, 2.0, 1.0, 2.0, 1.0, 2.0, 3.0, 1.0, 0.0, 2.0, 1.0, 1.0, 1.0, 2.0, 1.0, 2.0, 1.0, 1.0, 4.0, 1.0, 3.0, 1.0, 1.0, 3.0, 1.0, 2.0, 3.0, 1.0, 1.0, 4.0, 3.0, 1.0, 3.0, 3.0, 1.0, 1.0, 2.0, 3.0, 1.0, 1.0, 2.0, 1.0, 2.0, 1.0, 0.0, 1.0, 2.0, 2.0, 2.0, 0.0, 2.0, 1.0, 1.0, 3.0, 1.0, 2.0]\n"
     ]
    }
   ],
   "source": [
    "dist_triple_patterns_qald9_wikidata_test=get_dist_triple_patterns(\"<http://lsq.aksw.org/graph#qald9-plus-wikidata-test>\")\n",
    "print(dist_triple_patterns_qald9_wikidata_test, sep=\"\\t\")"
   ]
  },
  {
   "cell_type": "code",
   "execution_count": 50,
   "outputs": [
    {
     "name": "stdout",
     "output_type": "stream",
     "text": [
      "Mean: 1.6397058823529411, Std: 0.9975911731711179, Variance: 0.9951881487889274\n"
     ]
    }
   ],
   "source": [
    "mean_tp_qald9_wd_test, std_tp_qald9_wd_test, var_tp_qald9_wd_test = calculate_variance(dist_triple_patterns_qald9_wikidata_test)\n",
    "print(\"Mean: {0}, Std: {1}, Variance: {2}\".format(mean_tp_qald9_wd_test, std_tp_qald9_wd_test, var_tp_qald9_wd_test))"
   ],
   "metadata": {
    "collapsed": false
   }
  },
  {
   "cell_type": "code",
   "execution_count": 51,
   "outputs": [
    {
     "name": "stdout",
     "output_type": "stream",
     "text": [
      "[2.0, 0.0, 0.0, 0.0, 0.0, 1.0, 0.0, 0.0, 1.0, 0.0, 0.0, 0.0, 1.0, 0.0, 1.0, 1.0, 0.0, 0.0, 1.0, 0.0, 2.0, 1.0, 1.0, 1.0, 0.0, 0.0, 0.0, 0.0, 0.0, 0.0, 2.0, 2.0, 0.0, 0.0, 1.0, 1.0, 2.0, 0.0, 0.0, 0.0, 1.0, 0.0, 0.0, 1.0, 0.0, 0.0, 0.0, 0.0, 0.0, 0.0, 0.0, 1.0, 1.0, 1.0, 0.0, 0.0, 1.0, 0.0, 1.0, 0.0, 0.0, 0.0, 2.0, 1.0, 0.0, 0.0, 0.0, 0.0, 1.0, 2.0, 1.0, 1.0, 0.0, 0.0, 2.0, 0.0, 0.0, 0.0, 2.0, 0.0, 0.0, 1.0, 0.0, 1.0, 0.0, 1.0, 2.0, 0.0, 0.0, 1.0, 0.0, 0.0, 0.0, 1.0, 0.0, 1.0, 0.0, 0.0, 1.0, 0.0, 0.0, 0.0, 0.0, 1.0, 0.0, 1.0, 1.0, 0.0, 0.0, 3.0, 2.0, 0.0, 2.0, 1.0, 0.0, 0.0, 1.0, 0.0, 0.0, 0.0, 1.0, 0.0, 1.0, 0.0, 0.0, 0.0, 1.0, 1.0, 1.0, 0.0, 1.0, 0.0, 0.0, 1.0, 0.0, 1.0]\n"
     ]
    }
   ],
   "source": [
    "dist_joins_qald9_wikidata_test=get_dist_joins(\"<http://lsq.aksw.org/graph#qald9-plus-wikidata-test>\")\n",
    "print(dist_joins_qald9_wikidata_test, sep=\"\\t\")"
   ],
   "metadata": {
    "collapsed": false
   }
  },
  {
   "cell_type": "code",
   "execution_count": 52,
   "outputs": [
    {
     "name": "stdout",
     "output_type": "stream",
     "text": [
      "Mean: 0.5073529411764706, Std: 0.6859549325940976, Variance: 0.47053416955017296\n"
     ]
    }
   ],
   "source": [
    "mean_joins_qald9_wd_test, std_joins_qald9_wd_test, var_joins_qald9_wd_test = calculate_variance(dist_joins_qald9_wikidata_test)\n",
    "print(\"Mean: {0}, Std: {1}, Variance: {2}\".format(mean_joins_qald9_wd_test, std_joins_qald9_wd_test, var_joins_qald9_wd_test))"
   ],
   "metadata": {
    "collapsed": false
   }
  },
  {
   "cell_type": "code",
   "execution_count": 53,
   "outputs": [
    {
     "name": "stdout",
     "output_type": "stream",
     "text": [
      "[2.0, 0.0, 0.0, 0.0, 0.0, 3.0, 0.0, 0.0, 4.0, 0.0, 0.0, 0.0, 2.0, 0.0, 2.0, 2.0, 0.0, 0.0, 2.0, 0.0, 2.0, 2.0, 2.0, 3.0, 0.0, 0.0, 0.0, 0.0, 0.0, 0.0, 3.0, 2.0, 0.0, 0.0, 2.0, 2.0, 2.0, 0.0, 0.0, 0.0, 2.0, 0.0, 0.0, 2.0, 0.0, 0.0, 0.0, 0.0, 0.0, 0.0, 0.0, 3.0, 3.0, 2.0, 0.0, 0.0, 3.0, 0.0, 3.0, 0.0, 0.0, 0.0, 2.0, 2.0, 0.0, 0.0, 0.0, 0.0, 2.0, 2.0, 3.0, 2.0, 0.0, 0.0, 2.0, 0.0, 0.0, 0.0, 2.0, 0.0, 0.0, 2.0, 0.0, 2.0, 0.0, 2.0, 2.0, 0.0, 0.0, 2.0, 0.0, 0.0, 0.0, 2.0, 0.0, 2.0, 0.0, 0.0, 4.0, 0.0, 0.0, 0.0, 0.0, 3.0, 0.0, 2.0, 3.0, 0.0, 0.0, 2.3333333334, 2.0, 0.0, 2.0, 3.0, 0.0, 0.0, 2.0, 0.0, 0.0, 0.0, 2.0, 0.0, 2.0, 0.0, 0.0, 0.0, 2.0, 2.0, 2.0, 0.0, 2.0, 0.0, 0.0, 3.0, 0.0, 2.0]\n"
     ]
    }
   ],
   "source": [
    "dist_jvd_qald9_wikidata_test=get_dist_jvd(\"<http://lsq.aksw.org/graph#qald9-plus-wikidata-test>\")\n",
    "print(dist_jvd_qald9_wikidata_test, sep=\"\\t\")"
   ],
   "metadata": {
    "collapsed": false
   }
  },
  {
   "cell_type": "code",
   "execution_count": 54,
   "outputs": [
    {
     "name": "stdout",
     "output_type": "stream",
     "text": [
      "Mean: 0.9289215686279411, Std: 1.1760186019021261, Variance: 1.3830197520198313\n"
     ]
    }
   ],
   "source": [
    "mean_jvd_qald9_wd_test, std_jvd_qald9_wd_test, var_jvd_qald9_wd_test = calculate_variance(dist_jvd_qald9_wikidata_test)\n",
    "print(\"Mean: {0}, Std: {1}, Variance: {2}\".format(mean_jvd_qald9_wd_test, std_jvd_qald9_wd_test, var_jvd_qald9_wd_test))"
   ],
   "metadata": {
    "collapsed": false
   }
  },
  {
   "cell_type": "code",
   "execution_count": 55,
   "outputs": [
    {
     "name": "stdout",
     "output_type": "stream",
     "text": [
      "Total queries having functions:  13\n"
     ]
    }
   ],
   "source": [
    "totalFuncs_qald9_wd_test = get_dist_funcs(\"<http://lsq.aksw.org/graph#qald9-plus-wikidata-test>\")\n",
    "print(\"Total queries having functions: \", totalFuncs_qald9_wd_test)"
   ],
   "metadata": {
    "collapsed": false
   }
  },
  {
   "cell_type": "code",
   "execution_count": 56,
   "outputs": [],
   "source": [
    "qald9_wd_test = json.load(open(\"/Users/longquan/Documents/OSS/QALD_9_plus/data/qald_9_plus_test_wikidata.json\"))\n",
    "qald9_wd_test_sparqls = [question[\"query\"][\"sparql\"] for question in qald9_wd_test[\"questions\"]]"
   ],
   "metadata": {
    "collapsed": false
   }
  },
  {
   "cell_type": "code",
   "execution_count": 57,
   "outputs": [
    {
     "name": "stdout",
     "output_type": "stream",
     "text": [
      "Frequency of each modifier\n",
      "COUNT: 18\n",
      "LIMIT: 12\n",
      "ORDER BY: 12\n",
      "FILTER: 13\n",
      "ASK: 3\n",
      "UNION: 6\n",
      "OFFSET: 0\n",
      "GROUP BY: 12\n",
      "HAVING: 2\n",
      "YEAR: 4\n",
      "NOW: 1\n",
      "\n"
     ]
    }
   ],
   "source": [
    "counts, limits, order_by, filters, asks, unions, offsets, group_by, havings, years, nows = get_frequencies_modifiers(qald9_wd_test_sparqls, \"<http://lsq.aksw.org/graph#qald9-plus-wikidata-test>\")\n",
    "\n",
    "print(\"Frequency of each modifier\\nCOUNT: {0}\\nLIMIT: {1}\\nORDER BY: {2}\\nFILTER: {3}\\nASK: {4}\\nUNION: {5}\\nOFFSET: {6}\\nGROUP BY: {7}\\nHAVING: {8}\\nYEAR: {9}\\nNOW: {10}\\n\".format(counts, limits, order_by, filters, asks, unions, offsets, group_by, havings, years, nows))"
   ],
   "metadata": {
    "collapsed": false
   }
  },
  {
   "cell_type": "code",
   "execution_count": 58,
   "outputs": [
    {
     "name": "stdout",
     "output_type": "stream",
     "text": [
      "Diversity Score of QALD-9-Plus Wikidata Test set:  1.075475906064686\n"
     ]
    }
   ],
   "source": [
    "# Calculate Diversity Score\n",
    "diversity_qald9_wd_test = calculate_diversity_score([mean_tp_qald9_wd_test, std_tp_qald9_wd_test], [mean_joins_qald9_wd_test, std_joins_qald9_wd_test], [mean_jvd_qald9_wd_test, std_jvd_qald9_wd_test])\n",
    "print(\"Diversity Score of QALD-9-Plus Wikidata Test set: \", diversity_qald9_wd_test)"
   ],
   "metadata": {
    "collapsed": false
   }
  },
  {
   "cell_type": "markdown",
   "source": [
    "# Plotting"
   ],
   "metadata": {
    "collapsed": false
   }
  },
  {
   "cell_type": "code",
   "execution_count": 59,
   "outputs": [],
   "source": [
    "import matplotlib.pyplot as plt\n",
    "\n",
    "def plot_box(columns, xticks, title):\n",
    "    fig, ax = plt.subplots()\n",
    "    ax.boxplot(columns, showmeans=True, meanprops={\"color\": \"purple\", \"linewidth\": 1.5}, meanline=True, medianprops=dict(linestyle='-.', color='darkgoldenrod', linewidth=0))\n",
    "    ax.set_title(title)\n",
    "    plt.xticks([1, 2, 3, 4, 5], xticks, rotation=10)\n",
    "    plt.show()"
   ],
   "metadata": {
    "collapsed": false
   }
  },
  {
   "cell_type": "code",
   "execution_count": 60,
   "outputs": [],
   "source": [
    "xticks = [\"QALD10-wd-test\", \"QALD9-plus-dbpedia-train\", \"QALD9-plus-dbpedia-test\", \"QALD9-plus-wd-train\", \"QALD9-plus-wd-test\"]"
   ],
   "metadata": {
    "collapsed": false
   }
  },
  {
   "cell_type": "code",
   "execution_count": 61,
   "outputs": [
    {
     "data": {
      "text/plain": "<Figure size 640x480 with 1 Axes>",
      "image/png": "[encoded data removed]"
     },
     "metadata": {},
     "output_type": "display_data"
    }
   ],
   "source": [
    "columns = [dist_triple_patterns_qald10_wikidata_test, dist_triple_patterns_qald9_dbpedia_train, dist_triple_patterns_qald9_dbpedia_test, dist_triple_patterns_qald9_wikidata_train, dist_triple_patterns_qald9_wikidata_test]\n",
    "title = \"Distribution of the number of triple patterns\"\n",
    "plot_box(columns, xticks, title)"
   ],
   "metadata": {
    "collapsed": false
   }
  },
  {
   "cell_type": "code",
   "execution_count": 62,
   "outputs": [
    {
     "data": {
      "text/plain": "<Figure size 640x480 with 1 Axes>",
      "image/png": "[encoded data removed]"
     },
     "metadata": {},
     "output_type": "display_data"
    }
   ],
   "source": [
    "columns = [dist_joins_qald10_wikidata_test, dist_joins_qald9_dbpedia_train, dist_joins_qald9_dbpedia_test, dist_joins_qald9_wikidata_train, dist_joins_qald9_wikidata_test]\n",
    "title = \"Distribution of the number of joins\"\n",
    "plot_box(columns, xticks, title)"
   ],
   "metadata": {
    "collapsed": false
   }
  },
  {
   "cell_type": "code",
   "execution_count": 63,
   "outputs": [
    {
     "data": {
      "text/plain": "<Figure size 640x480 with 1 Axes>",
      "image/png": "[encoded data removed]"
     },
     "metadata": {},
     "output_type": "display_data"
    }
   ],
   "source": [
    "columns = [dist_jvd_qald10_wikidata_test, dist_jvd_qald9_dbpedia_train, dist_jvd_qald9_dbpedia_test, dist_jvd_qald9_wikidata_train, dist_jvd_qald9_wikidata_test]\n",
    "title = \"Distribution of the number of Join Vertex Degree\"\n",
    "plot_box(columns, xticks, title)"
   ],
   "metadata": {
    "collapsed": false
   }
  }
 ],
 "metadata": {
  "kernelspec": {
   "display_name": "Python 3",
   "language": "python",
   "name": "python3"
  },
  "language_info": {
   "codemirror_mode": {
    "name": "ipython",
    "version": 2
   },
   "file_extension": ".py",
   "mimetype": "text/x-python",
   "name": "python",
   "nbconvert_exporter": "python",
   "pygments_lexer": "ipython2",
   "version": "2.7.6"
  }
 },
 "nbformat": 4,
 "nbformat_minor": 0
}
